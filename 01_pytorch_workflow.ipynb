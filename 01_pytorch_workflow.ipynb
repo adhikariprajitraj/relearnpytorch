{
 "cells": [
  {
   "cell_type": "markdown",
   "source": [
    "# Pytorch Workflow"
   ],
   "metadata": {
    "collapsed": false
   },
   "id": "d73e7344c9d664df"
  },
  {
   "cell_type": "code",
   "execution_count": 1,
   "id": "initial_id",
   "metadata": {
    "collapsed": true,
    "ExecuteTime": {
     "end_time": "2023-10-05T07:16:36.079158Z",
     "start_time": "2023-10-05T07:16:33.884302Z"
    }
   },
   "outputs": [
    {
     "data": {
      "text/plain": "'2.0.1'"
     },
     "execution_count": 1,
     "metadata": {},
     "output_type": "execute_result"
    }
   ],
   "source": [
    "import torch\n",
    "import numpy as np\n",
    "import matplotlib.pyplot as plt\n",
    "import pandas as pd\n",
    "from torch import nn # contains all the modules, loss functions, activation functions\n",
    "\n",
    "torch.__version__"
   ]
  },
  {
   "cell_type": "markdown",
   "source": [
    "## 1. Data Preparation and loading\n",
    "data can be almost anything. "
   ],
   "metadata": {
    "collapsed": false
   },
   "id": "da2c7295c685fa06"
  },
  {
   "cell_type": "code",
   "execution_count": 2,
   "outputs": [
    {
     "data": {
      "text/plain": "tensor([0.5000, 0.5700, 0.6400, 0.7100, 0.7800, 0.8500, 0.9200, 0.9900, 1.0600,\n        1.1300, 1.2000, 1.2700, 1.3400, 1.4100, 1.4800, 1.5500, 1.6200, 1.6900,\n        1.7600, 1.8300, 1.9000, 1.9700, 2.0400, 2.1100, 2.1800, 2.2500, 2.3200,\n        2.3900, 2.4600, 2.5300, 2.6000, 2.6700, 2.7400, 2.8100, 2.8800, 2.9500,\n        3.0200, 3.0900, 3.1600, 3.2300, 3.3000, 3.3700, 3.4400, 3.5100, 3.5800,\n        3.6500, 3.7200, 3.7900, 3.8600, 3.9300, 4.0000, 4.0700, 4.1400, 4.2100,\n        4.2800, 4.3500, 4.4200, 4.4900, 4.5600, 4.6300, 4.7000, 4.7700, 4.8400,\n        4.9100, 4.9800, 5.0500, 5.1200, 5.1900, 5.2600, 5.3300, 5.4000, 5.4700,\n        5.5400, 5.6100, 5.6800, 5.7500, 5.8200, 5.8900, 5.9600, 6.0300, 6.1000,\n        6.1700, 6.2400, 6.3100, 6.3800, 6.4500, 6.5200, 6.5900, 6.6600, 6.7300,\n        6.8000, 6.8700, 6.9400, 7.0100, 7.0800, 7.1500, 7.2200, 7.2900, 7.3600,\n        7.4300])"
     },
     "execution_count": 2,
     "metadata": {},
     "output_type": "execute_result"
    }
   ],
   "source": [
    "# linear regression\n",
    "\n",
    "weight = 0.7\n",
    "bias = 0.5\n",
    "\n",
    "# create\n",
    "start = 0\n",
    "end = 10\n",
    "step = 0.1\n",
    "X = torch.arange(start, end, step)\n",
    "Y= weight*X + bias \n",
    "Y"
   ],
   "metadata": {
    "collapsed": false,
    "ExecuteTime": {
     "end_time": "2023-10-05T07:16:36.135231Z",
     "start_time": "2023-10-05T07:16:36.080633Z"
    }
   },
   "id": "6b11f06d5c464ca7"
  },
  {
   "cell_type": "code",
   "execution_count": 3,
   "outputs": [
    {
     "data": {
      "text/plain": "(100, 100)"
     },
     "execution_count": 3,
     "metadata": {},
     "output_type": "execute_result"
    }
   ],
   "source": [
    "len(X), len(Y)"
   ],
   "metadata": {
    "collapsed": false,
    "ExecuteTime": {
     "end_time": "2023-10-05T07:16:36.136002Z",
     "start_time": "2023-10-05T07:16:36.105938Z"
    }
   },
   "id": "35d9ff3e580170f6"
  },
  {
   "cell_type": "markdown",
   "source": [
    "### Splitting the data into training and testing sets"
   ],
   "metadata": {
    "collapsed": false
   },
   "id": "bb5b607c66f96475"
  },
  {
   "cell_type": "code",
   "execution_count": 4,
   "outputs": [],
   "source": [
    "train_split = int(0.8*len(X))\n",
    "X_train, Y_train = X[:train_split], Y[:train_split]\n",
    "X_test, Y_test = X[train_split:], Y[train_split:]"
   ],
   "metadata": {
    "collapsed": false,
    "ExecuteTime": {
     "end_time": "2023-10-05T07:16:36.136252Z",
     "start_time": "2023-10-05T07:16:36.111426Z"
    }
   },
   "id": "4d4638c23c7d861b"
  },
  {
   "cell_type": "code",
   "execution_count": 5,
   "outputs": [
    {
     "data": {
      "text/plain": "(80, 20)"
     },
     "execution_count": 5,
     "metadata": {},
     "output_type": "execute_result"
    }
   ],
   "source": [
    "len(X_train), len(X_test)"
   ],
   "metadata": {
    "collapsed": false,
    "ExecuteTime": {
     "end_time": "2023-10-05T07:16:36.136597Z",
     "start_time": "2023-10-05T07:16:36.113986Z"
    }
   },
   "id": "ea6a162160410579"
  },
  {
   "cell_type": "code",
   "execution_count": 6,
   "outputs": [
    {
     "data": {
      "text/plain": "<Figure size 1000x700 with 0 Axes>"
     },
     "execution_count": 6,
     "metadata": {},
     "output_type": "execute_result"
    },
    {
     "data": {
      "text/plain": "<Figure size 1000x700 with 0 Axes>"
     },
     "metadata": {},
     "output_type": "display_data"
    }
   ],
   "source": [
    "plt.figure(figsize=(10, 7))"
   ],
   "metadata": {
    "collapsed": false,
    "ExecuteTime": {
     "end_time": "2023-10-05T07:16:36.137838Z",
     "start_time": "2023-10-05T07:16:36.117190Z"
    }
   },
   "id": "af8def45d2fe9633"
  },
  {
   "cell_type": "code",
   "execution_count": 7,
   "outputs": [
    {
     "data": {
      "text/plain": "<matplotlib.legend.Legend at 0x15ff74ad0>"
     },
     "execution_count": 7,
     "metadata": {},
     "output_type": "execute_result"
    },
    {
     "data": {
      "text/plain": "<Figure size 640x480 with 1 Axes>",
      "image/png": "[encoded data removed]"
     },
     "metadata": {},
     "output_type": "display_data"
    }
   ],
   "source": [
    "plt.scatter(X_train, Y_train, label='Training Data')\n",
    "plt.scatter(X_test, Y_test, label='Testing Data', color='r')\n",
    "plt.legend()"
   ],
   "metadata": {
    "collapsed": false,
    "ExecuteTime": {
     "end_time": "2023-10-05T07:16:36.263219Z",
     "start_time": "2023-10-05T07:16:36.138574Z"
    }
   },
   "id": "418b5ee49ed91d59"
  },
  {
   "cell_type": "markdown",
   "source": [
    "## Building the model"
   ],
   "metadata": {
    "collapsed": false
   },
   "id": "b9480ab621e6e802"
  },
  {
   "cell_type": "code",
   "execution_count": 8,
   "outputs": [],
   "source": [
    "# create a linear regression model\n",
    "class LinearRegression(nn.Module):\n",
    "    def __init__(self):\n",
    "        super().__init__()\n",
    "        self.weights = nn.Parameter(torch.randn(1, requires_grad=True, dtype=torch.float))\n",
    "        self.bias = nn.Parameter(torch.randn(1, requires_grad=True, dtype=torch.float))\n",
    "        \n",
    "    def forward(self, x):\n",
    "        return self.weights*x + self.bias"
   ],
   "metadata": {
    "collapsed": false,
    "ExecuteTime": {
     "end_time": "2023-10-05T07:16:36.263541Z",
     "start_time": "2023-10-05T07:16:36.252099Z"
    }
   },
   "id": "9942ff1161e9970"
  },
  {
   "cell_type": "code",
   "execution_count": 11,
   "outputs": [
    {
     "data": {
      "text/plain": "[Parameter containing:\n tensor([0.3367], requires_grad=True),\n Parameter containing:\n tensor([0.1288], requires_grad=True)]"
     },
     "execution_count": 11,
     "metadata": {},
     "output_type": "execute_result"
    }
   ],
   "source": [
    "# create a random seed\n",
    "torch.manual_seed(42)\n",
    "\n",
    "# create a model\n",
    "model = LinearRegression()\n",
    "list(model.parameters())"
   ],
   "metadata": {
    "collapsed": false,
    "ExecuteTime": {
     "end_time": "2023-10-05T07:16:54.115957Z",
     "start_time": "2023-10-05T07:16:54.104085Z"
    }
   },
   "id": "50522faee5398e48"
  },
  {
   "cell_type": "code",
   "execution_count": 13,
   "outputs": [
    {
     "data": {
      "text/plain": "OrderedDict([('weights', tensor([0.3367])), ('bias', tensor([0.1288]))])"
     },
     "execution_count": 13,
     "metadata": {},
     "output_type": "execute_result"
    }
   ],
   "source": [
    "# list named parameters\n",
    "model.state_dict()"
   ],
   "metadata": {
    "collapsed": false,
    "ExecuteTime": {
     "end_time": "2023-10-05T07:18:50.227470Z",
     "start_time": "2023-10-05T07:18:50.219897Z"
    }
   },
   "id": "565d05d23290811e"
  },
  {
   "cell_type": "code",
   "execution_count": 19,
   "outputs": [
    {
     "data": {
      "text/plain": "tensor([2.8223, 2.8560, 2.8897, 2.9233, 2.9570, 2.9907, 3.0243, 3.0580, 3.0917,\n        3.1254, 3.1590, 3.1927, 3.2264, 3.2600, 3.2937, 3.3274, 3.3610, 3.3947,\n        3.4284, 3.4620])"
     },
     "execution_count": 19,
     "metadata": {},
     "output_type": "execute_result"
    }
   ],
   "source": [
    "# make predictions\n",
    "with torch.inference_mode():\n",
    "    y_preds = model(X_test)\n",
    "y_preds"
   ],
   "metadata": {
    "collapsed": false,
    "ExecuteTime": {
     "end_time": "2023-10-05T07:21:12.796692Z",
     "start_time": "2023-10-05T07:21:12.789220Z"
    }
   },
   "id": "ae2ef69c1cd5ecb4"
  },
  {
   "cell_type": "code",
   "execution_count": null,
   "outputs": [],
   "source": [],
   "metadata": {
    "collapsed": false
   },
   "id": "3b85abf4db02b4a8"
  }
 ],
 "metadata": {
  "kernelspec": {
   "display_name": "Python 3",
   "language": "python",
   "name": "python3"
  },
  "language_info": {
   "codemirror_mode": {
    "name": "ipython",
    "version": 2
   },
   "file_extension": ".py",
   "mimetype": "text/x-python",
   "name": "python",
   "nbconvert_exporter": "python",
   "pygments_lexer": "ipython2",
   "version": "2.7.6"
  }
 },
 "nbformat": 4,
 "nbformat_minor": 5
}
