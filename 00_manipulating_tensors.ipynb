{
 "cells": [
  {
   "cell_type": "code",
   "execution_count": 1,
   "id": "initial_id",
   "metadata": {
    "collapsed": true,
    "ExecuteTime": {
     "end_time": "2023-10-04T15:44:48.178227Z",
     "start_time": "2023-10-04T15:44:46.650385Z"
    }
   },
   "outputs": [],
   "source": [
    "import torch\n",
    "import pandas as pd\n",
    "import numpy as np\n",
    "import matplotlib.pyplot as plt"
   ]
  },
  {
   "cell_type": "markdown",
   "source": [
    "## Manipulating tensors"
   ],
   "metadata": {
    "collapsed": false
   },
   "id": "73be95e4e6b91f51"
  },
  {
   "cell_type": "code",
   "execution_count": 2,
   "outputs": [],
   "source": [
    "tensor = torch.tensor([\n",
    "    [1,2,3],\n",
    "    [4,5,6],\n",
    "    [7,8,9]\n",
    "], dtype=torch.float32)"
   ],
   "metadata": {
    "collapsed": false,
    "ExecuteTime": {
     "end_time": "2023-10-04T15:45:21.245112Z",
     "start_time": "2023-10-04T15:45:21.236885Z"
    }
   },
   "id": "c05ee6f19f3d990"
  },
  {
   "cell_type": "code",
   "execution_count": 3,
   "outputs": [
    {
     "data": {
      "text/plain": "tensor([[11., 12., 13.],\n        [14., 15., 16.],\n        [17., 18., 19.]])"
     },
     "execution_count": 3,
     "metadata": {},
     "output_type": "execute_result"
    }
   ],
   "source": [
    "tensor+10"
   ],
   "metadata": {
    "collapsed": false,
    "ExecuteTime": {
     "end_time": "2023-10-04T15:45:28.149532Z",
     "start_time": "2023-10-04T15:45:28.143425Z"
    }
   },
   "id": "770c57b6c915c25"
  },
  {
   "cell_type": "code",
   "execution_count": 4,
   "outputs": [
    {
     "data": {
      "text/plain": "tensor([[10., 20., 30.],\n        [40., 50., 60.],\n        [70., 80., 90.]])"
     },
     "execution_count": 4,
     "metadata": {},
     "output_type": "execute_result"
    }
   ],
   "source": [
    "tensor*10"
   ],
   "metadata": {
    "collapsed": false,
    "ExecuteTime": {
     "end_time": "2023-10-04T15:46:30.289065Z",
     "start_time": "2023-10-04T15:46:30.272823Z"
    }
   },
   "id": "8089a07566784d64"
  },
  {
   "cell_type": "code",
   "execution_count": 5,
   "outputs": [
    {
     "data": {
      "text/plain": "tensor([[0.1000, 0.2000, 0.3000],\n        [0.4000, 0.5000, 0.6000],\n        [0.7000, 0.8000, 0.9000]])"
     },
     "execution_count": 5,
     "metadata": {},
     "output_type": "execute_result"
    }
   ],
   "source": [
    "tensor/10"
   ],
   "metadata": {
    "collapsed": false,
    "ExecuteTime": {
     "end_time": "2023-10-04T15:46:32.295362Z",
     "start_time": "2023-10-04T15:46:32.288072Z"
    }
   },
   "id": "3fe47c23eb1ac516"
  },
  {
   "cell_type": "code",
   "execution_count": 6,
   "outputs": [
    {
     "data": {
      "text/plain": "tensor([[ 1.,  4.,  9.],\n        [16., 25., 36.],\n        [49., 64., 81.]])"
     },
     "execution_count": 6,
     "metadata": {},
     "output_type": "execute_result"
    }
   ],
   "source": [
    "tensor**2"
   ],
   "metadata": {
    "collapsed": false,
    "ExecuteTime": {
     "end_time": "2023-10-04T15:48:53.344503Z",
     "start_time": "2023-10-04T15:48:53.332893Z"
    }
   },
   "id": "657135447a961773"
  },
  {
   "cell_type": "code",
   "execution_count": 7,
   "outputs": [
    {
     "data": {
      "text/plain": "tensor([[ 1.,  4.,  9.],\n        [16., 25., 36.],\n        [49., 64., 81.]])"
     },
     "execution_count": 7,
     "metadata": {},
     "output_type": "execute_result"
    }
   ],
   "source": [
    "tensor*tensor"
   ],
   "metadata": {
    "collapsed": false,
    "ExecuteTime": {
     "end_time": "2023-10-04T15:49:03.110220Z",
     "start_time": "2023-10-04T15:49:03.101152Z"
    }
   },
   "id": "9764a98eed05b48e"
  },
  {
   "cell_type": "code",
   "execution_count": 10,
   "outputs": [
    {
     "data": {
      "text/plain": "tensor([[ 30.,  36.,  42.],\n        [ 66.,  81.,  96.],\n        [102., 126., 150.]])"
     },
     "execution_count": 10,
     "metadata": {},
     "output_type": "execute_result"
    }
   ],
   "source": [
    "tensor.matmul(tensor)"
   ],
   "metadata": {
    "collapsed": false,
    "ExecuteTime": {
     "end_time": "2023-10-04T15:49:27.569871Z",
     "start_time": "2023-10-04T15:49:27.562869Z"
    }
   },
   "id": "385d269f47a79a53"
  },
  {
   "cell_type": "code",
   "execution_count": 11,
   "outputs": [
    {
     "data": {
      "text/plain": "tensor([[ 30.,  36.,  42.],\n        [ 66.,  81.,  96.],\n        [102., 126., 150.]])"
     },
     "execution_count": 11,
     "metadata": {},
     "output_type": "execute_result"
    }
   ],
   "source": [
    "torch.matmul(tensor, tensor)"
   ],
   "metadata": {
    "collapsed": false,
    "ExecuteTime": {
     "end_time": "2023-10-04T15:49:52.041526Z",
     "start_time": "2023-10-04T15:49:52.034341Z"
    }
   },
   "id": "f94389e4c508ee74"
  },
  {
   "cell_type": "code",
   "execution_count": 13,
   "outputs": [
    {
     "name": "stdout",
     "output_type": "stream",
     "text": [
      "CPU times: user 125 µs, sys: 56 µs, total: 181 µs\n",
      "Wall time: 186 µs\n"
     ]
    },
    {
     "data": {
      "text/plain": "tensor([[ 30.,  36.,  42.],\n        [ 66.,  81.,  96.],\n        [102., 126., 150.]])"
     },
     "execution_count": 13,
     "metadata": {},
     "output_type": "execute_result"
    }
   ],
   "source": [
    "%%time\n",
    "tensor @ tensor"
   ],
   "metadata": {
    "collapsed": false,
    "ExecuteTime": {
     "end_time": "2023-10-04T15:50:36.279818Z",
     "start_time": "2023-10-04T15:50:36.274145Z"
    }
   },
   "id": "f71cf770645de55a"
  },
  {
   "cell_type": "markdown",
   "source": [
    "### Matrix multiplication"
   ],
   "metadata": {
    "collapsed": false
   },
   "id": "ab5ed86625f685c0"
  },
  {
   "cell_type": "code",
   "execution_count": 17,
   "outputs": [
    {
     "name": "stdout",
     "output_type": "stream",
     "text": [
      "CPU times: user 444 µs, sys: 394 µs, total: 838 µs\n",
      "Wall time: 594 µs\n"
     ]
    },
    {
     "data": {
      "text/plain": "tensor([[0.5294, 0.7423, 0.9162, 1.1668, 0.9324, 0.6559, 0.7332, 0.2565, 0.9264,\n         0.5406],\n        [0.7877, 0.6336, 0.5096, 1.1435, 1.3228, 0.9876, 0.6898, 0.9510, 1.2402,\n         0.3864],\n        [1.0837, 1.0087, 1.4202, 1.6839, 1.5546, 0.8046, 1.5387, 0.4339, 1.4754,\n         0.9518]])"
     },
     "execution_count": 17,
     "metadata": {},
     "output_type": "execute_result"
    }
   ],
   "source": [
    "%%time\n",
    "random_tensor_A = torch.rand((3,5))\n",
    "random_tensor_B = torch.rand((5\n",
    "                            ,10))\n",
    "\n",
    "random_tensor_A @ random_tensor_B"
   ],
   "metadata": {
    "collapsed": false,
    "ExecuteTime": {
     "end_time": "2023-10-04T15:53:34.487391Z",
     "start_time": "2023-10-04T15:53:34.481808Z"
    }
   },
   "id": "6baa5a2087492def"
  },
  {
   "cell_type": "code",
   "execution_count": 19,
   "outputs": [
    {
     "data": {
      "text/plain": "(tensor([[0.0999, 0.0920, 0.7239],\n         [0.5780, 0.1182, 0.8329],\n         [0.1144, 0.6341, 0.7954],\n         [0.5299, 0.2438, 0.2047],\n         [0.0713, 0.8092, 0.0558]]),\n torch.Size([5, 10]))"
     },
     "execution_count": 19,
     "metadata": {},
     "output_type": "execute_result"
    }
   ],
   "source": [
    "random_tensor_A.T, random_tensor_B.shape"
   ],
   "metadata": {
    "collapsed": false,
    "ExecuteTime": {
     "end_time": "2023-10-04T15:54:32.904059Z",
     "start_time": "2023-10-04T15:54:32.900642Z"
    }
   },
   "id": "850572534fc79f3d"
  },
  {
   "cell_type": "markdown",
   "source": [
    "## tensor aggregation"
   ],
   "metadata": {
    "collapsed": false
   },
   "id": "16c1107c8144c2af"
  },
  {
   "cell_type": "code",
   "execution_count": 20,
   "outputs": [
    {
     "data": {
      "text/plain": "tensor([0.0000, 0.5000, 1.0000, 1.5000, 2.0000, 2.5000, 3.0000, 3.5000, 4.0000,\n        4.5000, 5.0000, 5.5000, 6.0000, 6.5000, 7.0000, 7.5000, 8.0000, 8.5000,\n        9.0000, 9.5000])"
     },
     "execution_count": 20,
     "metadata": {},
     "output_type": "execute_result"
    }
   ],
   "source": [
    "tensor_x = torch.arange(0,10,0.5)\n",
    "tensor_x"
   ],
   "metadata": {
    "collapsed": false,
    "ExecuteTime": {
     "end_time": "2023-10-04T15:56:21.448490Z",
     "start_time": "2023-10-04T15:56:21.442363Z"
    }
   },
   "id": "8d7d9baed1d639c2"
  },
  {
   "cell_type": "code",
   "execution_count": 22,
   "outputs": [
    {
     "data": {
      "text/plain": "tensor(0.)"
     },
     "execution_count": 22,
     "metadata": {},
     "output_type": "execute_result"
    }
   ],
   "source": [
    "tensor_x.min()"
   ],
   "metadata": {
    "collapsed": false,
    "ExecuteTime": {
     "end_time": "2023-10-04T15:56:54.817062Z",
     "start_time": "2023-10-04T15:56:54.812246Z"
    }
   },
   "id": "1c3d4443e2f1e4d8"
  },
  {
   "cell_type": "code",
   "execution_count": 23,
   "outputs": [
    {
     "data": {
      "text/plain": "tensor(9.5000)"
     },
     "execution_count": 23,
     "metadata": {},
     "output_type": "execute_result"
    }
   ],
   "source": [
    "tensor_x.max()"
   ],
   "metadata": {
    "collapsed": false,
    "ExecuteTime": {
     "end_time": "2023-10-04T15:57:01.452251Z",
     "start_time": "2023-10-04T15:57:01.444960Z"
    }
   },
   "id": "ced0fd4594420fbb"
  },
  {
   "cell_type": "code",
   "execution_count": 24,
   "outputs": [
    {
     "data": {
      "text/plain": "tensor(4.7500)"
     },
     "execution_count": 24,
     "metadata": {},
     "output_type": "execute_result"
    }
   ],
   "source": [
    "tensor_x.mean()"
   ],
   "metadata": {
    "collapsed": false,
    "ExecuteTime": {
     "end_time": "2023-10-04T15:57:03.922693Z",
     "start_time": "2023-10-04T15:57:03.915383Z"
    }
   },
   "id": "ae2403a94a354f93"
  },
  {
   "cell_type": "code",
   "execution_count": 25,
   "outputs": [
    {
     "data": {
      "text/plain": "(tensor(2.9580), tensor(8.7500), tensor(4.5000), tensor(95.))"
     },
     "execution_count": 25,
     "metadata": {},
     "output_type": "execute_result"
    }
   ],
   "source": [
    "tensor_x.std(), tensor_x.var(), tensor_x.median(), tensor_x.sum()"
   ],
   "metadata": {
    "collapsed": false,
    "ExecuteTime": {
     "end_time": "2023-10-04T15:58:57.414164Z",
     "start_time": "2023-10-04T15:58:57.406072Z"
    }
   },
   "id": "220f7080d2435f7"
  },
  {
   "cell_type": "markdown",
   "source": [
    "### Finding the positional mean "
   ],
   "metadata": {
    "collapsed": false
   },
   "id": "cce3f133edd1a31c"
  },
  {
   "cell_type": "code",
   "execution_count": 26,
   "outputs": [
    {
     "data": {
      "text/plain": "(tensor(0), tensor(19))"
     },
     "execution_count": 26,
     "metadata": {},
     "output_type": "execute_result"
    }
   ],
   "source": [
    "tensor_x.argmin(), tensor_x.argmax()"
   ],
   "metadata": {
    "collapsed": false,
    "ExecuteTime": {
     "end_time": "2023-10-04T15:59:40.609095Z",
     "start_time": "2023-10-04T15:59:40.598624Z"
    }
   },
   "id": "551d14294704b8a6"
  },
  {
   "cell_type": "code",
   "execution_count": 27,
   "outputs": [
    {
     "data": {
      "text/plain": "(tensor(0), tensor(19))"
     },
     "execution_count": 27,
     "metadata": {},
     "output_type": "execute_result"
    }
   ],
   "source": [
    "torch.argmin(tensor_x), torch.argmax(tensor_x)"
   ],
   "metadata": {
    "collapsed": false,
    "ExecuteTime": {
     "end_time": "2023-10-04T15:59:45.254910Z",
     "start_time": "2023-10-04T15:59:45.242767Z"
    }
   },
   "id": "e1eb8af423204332"
  },
  {
   "cell_type": "code",
   "execution_count": 28,
   "outputs": [
    {
     "data": {
      "text/plain": "tensor(9.5000)"
     },
     "execution_count": 28,
     "metadata": {},
     "output_type": "execute_result"
    }
   ],
   "source": [
    "tensor_x[19]"
   ],
   "metadata": {
    "collapsed": false,
    "ExecuteTime": {
     "end_time": "2023-10-04T16:00:37.101196Z",
     "start_time": "2023-10-04T16:00:37.093050Z"
    }
   },
   "id": "c9c422997316f214"
  },
  {
   "cell_type": "code",
   "execution_count": 29,
   "outputs": [
    {
     "data": {
      "text/plain": "9.5"
     },
     "execution_count": 29,
     "metadata": {},
     "output_type": "execute_result"
    }
   ],
   "source": [
    "tensor_x[19].item()"
   ],
   "metadata": {
    "collapsed": false,
    "ExecuteTime": {
     "end_time": "2023-10-04T16:00:39.978430Z",
     "start_time": "2023-10-04T16:00:39.969576Z"
    }
   },
   "id": "56c27f9863cb41b4"
  },
  {
   "cell_type": "code",
   "execution_count": 30,
   "outputs": [
    {
     "data": {
      "text/plain": "0"
     },
     "execution_count": 30,
     "metadata": {},
     "output_type": "execute_result"
    }
   ],
   "source": [
    "torch.argmin(tensor_x).item()"
   ],
   "metadata": {
    "collapsed": false,
    "ExecuteTime": {
     "end_time": "2023-10-04T16:00:43.534953Z",
     "start_time": "2023-10-04T16:00:43.525631Z"
    }
   },
   "id": "1af4133fa37c3005"
  },
  {
   "cell_type": "markdown",
   "source": [
    "## Reshaping tensors"
   ],
   "metadata": {
    "collapsed": false
   },
   "id": "7110a05b452089ad"
  },
  {
   "cell_type": "code",
   "execution_count": 31,
   "outputs": [
    {
     "data": {
      "text/plain": "tensor([[0.8060, 0.2675, 0.4040, 0.4907, 0.5171],\n        [0.5923, 0.3164, 0.1424, 0.6331, 0.5535],\n        [0.7972, 0.6308, 0.4881, 0.7356, 0.4484]])"
     },
     "execution_count": 31,
     "metadata": {},
     "output_type": "execute_result"
    }
   ],
   "source": [
    "random_tensor_A = torch.rand((3,5))\n",
    "random_tensor_A"
   ],
   "metadata": {
    "collapsed": false,
    "ExecuteTime": {
     "end_time": "2023-10-04T16:05:05.372993Z",
     "start_time": "2023-10-04T16:05:05.363676Z"
    }
   },
   "id": "a61e1cc8f3b6acef"
  },
  {
   "cell_type": "code",
   "execution_count": 39,
   "outputs": [],
   "source": [
    "random_tensor_B = random_tensor_A.reshape((5,3))"
   ],
   "metadata": {
    "collapsed": false,
    "ExecuteTime": {
     "end_time": "2023-10-04T16:08:46.035621Z",
     "start_time": "2023-10-04T16:08:46.027297Z"
    }
   },
   "id": "5b2c29105682dbd1"
  },
  {
   "cell_type": "code",
   "execution_count": 40,
   "outputs": [
    {
     "data": {
      "text/plain": "torch.Size([5, 3])"
     },
     "execution_count": 40,
     "metadata": {},
     "output_type": "execute_result"
    }
   ],
   "source": [
    "random_tensor_A.reshape((5,3)).shape"
   ],
   "metadata": {
    "collapsed": false,
    "ExecuteTime": {
     "end_time": "2023-10-04T16:08:46.945690Z",
     "start_time": "2023-10-04T16:08:46.939862Z"
    }
   },
   "id": "dc4dc668314a9f47"
  },
  {
   "cell_type": "code",
   "execution_count": 41,
   "outputs": [
    {
     "data": {
      "text/plain": "(tensor([[0.8060],\n         [0.2675],\n         [0.4040],\n         [0.4907],\n         [0.5171],\n         [0.5923],\n         [0.3164],\n         [0.1424],\n         [0.6331],\n         [0.5535],\n         [0.7972],\n         [0.6308],\n         [0.4881],\n         [0.7356],\n         [0.4484]]),\n torch.Size([15, 1]))"
     },
     "execution_count": 41,
     "metadata": {},
     "output_type": "execute_result"
    }
   ],
   "source": [
    "z = random_tensor_A.view(15,1)\n",
    "z, z.shape"
   ],
   "metadata": {
    "collapsed": false,
    "ExecuteTime": {
     "end_time": "2023-10-04T16:08:47.414707Z",
     "start_time": "2023-10-04T16:08:47.408412Z"
    }
   },
   "id": "d330922f5a6cccca"
  },
  {
   "cell_type": "code",
   "execution_count": 42,
   "outputs": [
    {
     "data": {
      "text/plain": "tensor([[[0.8060],\n         [0.8060],\n         [0.8060]],\n\n        [[0.2675],\n         [0.2675],\n         [0.2675]],\n\n        [[0.4040],\n         [0.4040],\n         [0.4040]],\n\n        [[0.4907],\n         [0.4907],\n         [0.4907]],\n\n        [[0.5171],\n         [0.5171],\n         [0.5171]],\n\n        [[0.5923],\n         [0.5923],\n         [0.5923]],\n\n        [[0.3164],\n         [0.3164],\n         [0.3164]],\n\n        [[0.1424],\n         [0.1424],\n         [0.1424]],\n\n        [[0.6331],\n         [0.6331],\n         [0.6331]],\n\n        [[0.5535],\n         [0.5535],\n         [0.5535]],\n\n        [[0.7972],\n         [0.7972],\n         [0.7972]],\n\n        [[0.6308],\n         [0.6308],\n         [0.6308]],\n\n        [[0.4881],\n         [0.4881],\n         [0.4881]],\n\n        [[0.7356],\n         [0.7356],\n         [0.7356]],\n\n        [[0.4484],\n         [0.4484],\n         [0.4484]]])"
     },
     "execution_count": 42,
     "metadata": {},
     "output_type": "execute_result"
    }
   ],
   "source": [
    "torch.stack((z,z,z), dim=1)"
   ],
   "metadata": {
    "collapsed": false,
    "ExecuteTime": {
     "end_time": "2023-10-04T16:08:47.690049Z",
     "start_time": "2023-10-04T16:08:47.679186Z"
    }
   },
   "id": "215809a0235ce6f8"
  },
  {
   "cell_type": "code",
   "execution_count": 43,
   "outputs": [
    {
     "data": {
      "text/plain": "tensor([[0., 0., 0., 0., 0.],\n        [0., 0., 0., 0., 0.],\n        [0., 0., 0., 0., 0.]])"
     },
     "execution_count": 43,
     "metadata": {},
     "output_type": "execute_result"
    }
   ],
   "source": [
    "torch_zeroes = torch.zeros((3,5))\n",
    "torch_zeroes"
   ],
   "metadata": {
    "collapsed": false,
    "ExecuteTime": {
     "end_time": "2023-10-04T16:09:49.507967Z",
     "start_time": "2023-10-04T16:09:49.496375Z"
    }
   },
   "id": "2e2ee17fc017d47f"
  },
  {
   "cell_type": "code",
   "execution_count": 44,
   "outputs": [
    {
     "data": {
      "text/plain": "tensor([[0., 0., 0., 0., 0.],\n        [0., 0., 0., 0., 0.],\n        [0., 0., 0., 0., 0.]])"
     },
     "execution_count": 44,
     "metadata": {},
     "output_type": "execute_result"
    }
   ],
   "source": [
    "# squeeze\n",
    "torch_zeroes.squeeze()"
   ],
   "metadata": {
    "collapsed": false,
    "ExecuteTime": {
     "end_time": "2023-10-04T16:09:59.038486Z",
     "start_time": "2023-10-04T16:09:59.027498Z"
    }
   },
   "id": "1490ae161600d920"
  },
  {
   "cell_type": "code",
   "execution_count": 46,
   "outputs": [
    {
     "data": {
      "text/plain": "tensor([[[0., 0., 0., 0., 0.],\n         [0., 0., 0., 0., 0.],\n         [0., 0., 0., 0., 0.]]])"
     },
     "execution_count": 46,
     "metadata": {},
     "output_type": "execute_result"
    }
   ],
   "source": [
    "torch_zeroes.reshape((1,3,5))"
   ],
   "metadata": {
    "collapsed": false,
    "ExecuteTime": {
     "end_time": "2023-10-04T16:10:22.585711Z",
     "start_time": "2023-10-04T16:10:22.583250Z"
    }
   },
   "id": "2d49ed8b9a369445"
  },
  {
   "cell_type": "code",
   "execution_count": 47,
   "outputs": [
    {
     "data": {
      "text/plain": "tensor([[0., 0., 0., 0., 0.],\n        [0., 0., 0., 0., 0.],\n        [0., 0., 0., 0., 0.]])"
     },
     "execution_count": 47,
     "metadata": {},
     "output_type": "execute_result"
    }
   ],
   "source": [
    "torch_zeroes.squeeze()"
   ],
   "metadata": {
    "collapsed": false,
    "ExecuteTime": {
     "end_time": "2023-10-04T16:10:33.478346Z",
     "start_time": "2023-10-04T16:10:33.465012Z"
    }
   },
   "id": "17407866a3425278"
  },
  {
   "cell_type": "code",
   "execution_count": 48,
   "outputs": [
    {
     "data": {
      "text/plain": "tensor([[[0., 0., 0., 0., 0.],\n         [0., 0., 0., 0., 0.],\n         [0., 0., 0., 0., 0.]]])"
     },
     "execution_count": 48,
     "metadata": {},
     "output_type": "execute_result"
    }
   ],
   "source": [
    "torch_zeroes.unsqueeze(dim=0)"
   ],
   "metadata": {
    "collapsed": false,
    "ExecuteTime": {
     "end_time": "2023-10-04T16:10:35.846250Z",
     "start_time": "2023-10-04T16:10:35.827053Z"
    }
   },
   "id": "a089f41d4d0e2b04"
  },
  {
   "cell_type": "code",
   "execution_count": 49,
   "outputs": [
    {
     "data": {
      "text/plain": "tensor([[[0., 0., 0., 0., 0.]],\n\n        [[0., 0., 0., 0., 0.]],\n\n        [[0., 0., 0., 0., 0.]]])"
     },
     "execution_count": 49,
     "metadata": {},
     "output_type": "execute_result"
    }
   ],
   "source": [
    "torch_zeroes.unsqueeze(dim=1)"
   ],
   "metadata": {
    "collapsed": false,
    "ExecuteTime": {
     "end_time": "2023-10-04T16:10:39.891708Z",
     "start_time": "2023-10-04T16:10:39.875557Z"
    }
   },
   "id": "e287d905e9a58f81"
  },
  {
   "cell_type": "code",
   "execution_count": 57,
   "outputs": [
    {
     "data": {
      "text/plain": "tensor([[[0., 0., 0., 0., 0.]],\n\n        [[0., 0., 0., 0., 0.]],\n\n        [[0., 0., 0., 0., 0.]]])"
     },
     "execution_count": 57,
     "metadata": {},
     "output_type": "execute_result"
    }
   ],
   "source": [
    "new_x =torch_zeroes.unsqueeze(dim=1)\n",
    "new_x"
   ],
   "metadata": {
    "collapsed": false,
    "ExecuteTime": {
     "end_time": "2023-10-04T16:12:14.348643Z",
     "start_time": "2023-10-04T16:12:14.341087Z"
    }
   },
   "id": "54aa0eaf15eb7005"
  },
  {
   "cell_type": "code",
   "execution_count": 58,
   "outputs": [
    {
     "data": {
      "text/plain": "torch.Size([3, 1, 5])"
     },
     "execution_count": 58,
     "metadata": {},
     "output_type": "execute_result"
    }
   ],
   "source": [
    "\n",
    "new_x.shape"
   ],
   "metadata": {
    "collapsed": false,
    "ExecuteTime": {
     "end_time": "2023-10-04T16:12:15.809008Z",
     "start_time": "2023-10-04T16:12:15.805050Z"
    }
   },
   "id": "61aee5e9a0a50002"
  },
  {
   "cell_type": "code",
   "execution_count": 59,
   "outputs": [
    {
     "data": {
      "text/plain": "tensor([[0., 0., 0.],\n        [0., 0., 0.],\n        [0., 0., 0.],\n        [0., 0., 0.],\n        [0., 0., 0.]])"
     },
     "execution_count": 59,
     "metadata": {},
     "output_type": "execute_result"
    }
   ],
   "source": [
    "torch_zeroes.permute(1,0)"
   ],
   "metadata": {
    "collapsed": false,
    "ExecuteTime": {
     "end_time": "2023-10-04T16:13:07.476966Z",
     "start_time": "2023-10-04T16:13:07.459659Z"
    }
   },
   "id": "488b8c3769ea83db"
  },
  {
   "cell_type": "code",
   "execution_count": 60,
   "outputs": [
    {
     "data": {
      "text/plain": "torch.Size([5, 3])"
     },
     "execution_count": 60,
     "metadata": {},
     "output_type": "execute_result"
    }
   ],
   "source": [
    "torch_zeroes.permute(1,0).shape"
   ],
   "metadata": {
    "collapsed": false,
    "ExecuteTime": {
     "end_time": "2023-10-04T16:13:09.797241Z",
     "start_time": "2023-10-04T16:13:09.777786Z"
    }
   },
   "id": "82ef23d43485f557"
  },
  {
   "cell_type": "code",
   "execution_count": 61,
   "outputs": [
    {
     "data": {
      "text/plain": "tensor([[[0., 0., 0.],\n         [0., 0., 0.],\n         [0., 0., 0.],\n         [0., 0., 0.],\n         [0., 0., 0.]]])"
     },
     "execution_count": 61,
     "metadata": {},
     "output_type": "execute_result"
    }
   ],
   "source": [
    "torch_zeroes.permute(1,0).unsqueeze(dim=0)"
   ],
   "metadata": {
    "collapsed": false,
    "ExecuteTime": {
     "end_time": "2023-10-04T16:13:11.992724Z",
     "start_time": "2023-10-04T16:13:11.974680Z"
    }
   },
   "id": "ddc1d969398ed787"
  },
  {
   "cell_type": "code",
   "execution_count": 62,
   "outputs": [
    {
     "data": {
      "text/plain": "torch.Size([1, 5, 3])"
     },
     "execution_count": 62,
     "metadata": {},
     "output_type": "execute_result"
    }
   ],
   "source": [
    "torch_zeroes.permute(1,0).unsqueeze(dim=0).shape"
   ],
   "metadata": {
    "collapsed": false,
    "ExecuteTime": {
     "end_time": "2023-10-04T16:13:15.065165Z",
     "start_time": "2023-10-04T16:13:15.039434Z"
    }
   },
   "id": "fd91ee0c10ec27f2"
  },
  {
   "cell_type": "code",
   "execution_count": 63,
   "outputs": [
    {
     "data": {
      "text/plain": "(torch.Size([3, 224, 224]), torch.Size([224, 224, 3]))"
     },
     "execution_count": 63,
     "metadata": {},
     "output_type": "execute_result"
    }
   ],
   "source": [
    "x_original = torch.rand(size=(224,224,3))\n",
    "x_permute = x_original.permute(2,0,1)\n",
    "x_permute.shape, x_original.shape"
   ],
   "metadata": {
    "collapsed": false,
    "ExecuteTime": {
     "end_time": "2023-10-04T16:17:42.405455Z",
     "start_time": "2023-10-04T16:17:42.381940Z"
    }
   },
   "id": "6b74e67faecfceaf"
  },
  {
   "cell_type": "code",
   "execution_count": 64,
   "outputs": [
    {
     "data": {
      "text/plain": "(tensor(100.), tensor(100.))"
     },
     "execution_count": 64,
     "metadata": {},
     "output_type": "execute_result"
    }
   ],
   "source": [
    "x_original[0,0,0] = 100\n",
    "x_original[0,0,0], x_permute[0,0,0]"
   ],
   "metadata": {
    "collapsed": false,
    "ExecuteTime": {
     "end_time": "2023-10-04T16:18:02.819042Z",
     "start_time": "2023-10-04T16:18:02.797022Z"
    }
   },
   "id": "c5799aa52940b8e7"
  },
  {
   "cell_type": "code",
   "execution_count": 65,
   "outputs": [
    {
     "data": {
      "text/plain": "(tensor(0.), tensor(0.))"
     },
     "execution_count": 65,
     "metadata": {},
     "output_type": "execute_result"
    }
   ],
   "source": [
    "x_original[0,0,0] = 0\n",
    "x_original[0,0,0], x_permute[0,0,0]"
   ],
   "metadata": {
    "collapsed": false,
    "ExecuteTime": {
     "end_time": "2023-10-04T16:18:10.457515Z",
     "start_time": "2023-10-04T16:18:10.437468Z"
    }
   },
   "id": "140ab169312f3dd2"
  },
  {
   "cell_type": "markdown",
   "source": [
    "### Indexing and slicing tensors"
   ],
   "metadata": {
    "collapsed": false
   },
   "id": "38e04717ff393e23"
  },
  {
   "cell_type": "code",
   "execution_count": 68,
   "outputs": [],
   "source": [
    "new_tensor = torch.arange(0,9).reshape(1,3,3)"
   ],
   "metadata": {
    "collapsed": false,
    "ExecuteTime": {
     "end_time": "2023-10-04T16:31:12.219334Z",
     "start_time": "2023-10-04T16:31:12.208644Z"
    }
   },
   "id": "39e8562e4fa46b7e"
  },
  {
   "cell_type": "code",
   "execution_count": 69,
   "outputs": [
    {
     "data": {
      "text/plain": "tensor([[[0, 1, 2],\n         [3, 4, 5],\n         [6, 7, 8]]])"
     },
     "execution_count": 69,
     "metadata": {},
     "output_type": "execute_result"
    }
   ],
   "source": [
    "new_tensor"
   ],
   "metadata": {
    "collapsed": false,
    "ExecuteTime": {
     "end_time": "2023-10-04T16:31:14.150866Z",
     "start_time": "2023-10-04T16:31:14.141742Z"
    }
   },
   "id": "5e1d02014aeacf1b"
  },
  {
   "cell_type": "code",
   "execution_count": 71,
   "outputs": [
    {
     "data": {
      "text/plain": "tensor([3, 4, 5])"
     },
     "execution_count": 71,
     "metadata": {},
     "output_type": "execute_result"
    }
   ],
   "source": [
    "new_tensor[0,1]"
   ],
   "metadata": {
    "collapsed": false,
    "ExecuteTime": {
     "end_time": "2023-10-04T16:31:38.479836Z",
     "start_time": "2023-10-04T16:31:38.468002Z"
    }
   },
   "id": "a02275c1fe3fb57c"
  },
  {
   "cell_type": "code",
   "execution_count": 73,
   "outputs": [
    {
     "data": {
      "text/plain": "tensor([4])"
     },
     "execution_count": 73,
     "metadata": {},
     "output_type": "execute_result"
    }
   ],
   "source": [
    "new_tensor[:,1,1]"
   ],
   "metadata": {
    "collapsed": false,
    "ExecuteTime": {
     "end_time": "2023-10-04T16:32:59.902647Z",
     "start_time": "2023-10-04T16:32:59.887277Z"
    }
   },
   "id": "1aa92f8db8afcf7d"
  },
  {
   "cell_type": "code",
   "execution_count": 75,
   "outputs": [
    {
     "data": {
      "text/plain": "tensor([3, 4, 5])"
     },
     "execution_count": 75,
     "metadata": {},
     "output_type": "execute_result"
    }
   ],
   "source": [
    "new_tensor[0,1]"
   ],
   "metadata": {
    "collapsed": false,
    "ExecuteTime": {
     "end_time": "2023-10-04T16:33:23.902300Z",
     "start_time": "2023-10-04T16:33:23.892675Z"
    }
   },
   "id": "f08d8d4f2df53342"
  },
  {
   "cell_type": "code",
   "execution_count": 82,
   "outputs": [
    {
     "data": {
      "text/plain": "tensor([8])"
     },
     "execution_count": 82,
     "metadata": {},
     "output_type": "execute_result"
    }
   ],
   "source": [
    "new_tensor[:,2,2]"
   ],
   "metadata": {
    "collapsed": false,
    "ExecuteTime": {
     "end_time": "2023-10-04T16:34:17.589933Z",
     "start_time": "2023-10-04T16:34:17.579378Z"
    }
   },
   "id": "a53cf62004b59c86"
  },
  {
   "cell_type": "markdown",
   "source": [
    "# Numpy and pytorch"
   ],
   "metadata": {
    "collapsed": false
   },
   "id": "6c491c1adaa0811d"
  },
  {
   "cell_type": "code",
   "execution_count": 85,
   "outputs": [
    {
     "data": {
      "text/plain": "(tensor([[0., 1., 2.],\n         [3., 4., 5.],\n         [6., 7., 8.]]),\n array([[0, 1, 2],\n        [3, 4, 5],\n        [6, 7, 8]]),\n torch.float32)"
     },
     "execution_count": 85,
     "metadata": {},
     "output_type": "execute_result"
    }
   ],
   "source": [
    "np_array = np.arange(0,9).reshape(3,3)\n",
    "torch_np_array = torch.from_numpy(np_array).type(torch.float32)\n",
    "torch_np_array, np_array, torch_np_array.dtype"
   ],
   "metadata": {
    "collapsed": false,
    "ExecuteTime": {
     "end_time": "2023-10-04T16:38:03.015640Z",
     "start_time": "2023-10-04T16:38:03.004718Z"
    }
   },
   "id": "55d8e840edf96d5"
  },
  {
   "cell_type": "code",
   "execution_count": 87,
   "outputs": [
    {
     "data": {
      "text/plain": "(tensor([[1, 1, 1],\n         [1, 1, 1],\n         [1, 1, 1]], dtype=torch.int32),\n array([[1, 1, 1],\n        [1, 1, 1],\n        [1, 1, 1]], dtype=int32),\n dtype('int32'))"
     },
     "execution_count": 87,
     "metadata": {},
     "output_type": "execute_result"
    }
   ],
   "source": [
    "tensor_ones = torch.ones((3,3), dtype=torch.int32)\n",
    "numpy_ones = tensor_ones.numpy()\n",
    "tensor_ones, numpy_ones, numpy_ones.dtype"
   ],
   "metadata": {
    "collapsed": false,
    "ExecuteTime": {
     "end_time": "2023-10-04T16:39:49.762574Z",
     "start_time": "2023-10-04T16:39:49.711391Z"
    }
   },
   "id": "d242327b2cc93f1b"
  },
  {
   "cell_type": "code",
   "execution_count": 88,
   "outputs": [
    {
     "data": {
      "text/plain": "tensor([[ 2.,  3.,  4.],\n        [ 5.,  6.,  7.],\n        [ 8.,  9., 10.]])"
     },
     "execution_count": 88,
     "metadata": {},
     "output_type": "execute_result"
    }
   ],
   "source": [
    "tensor+1"
   ],
   "metadata": {
    "collapsed": false,
    "ExecuteTime": {
     "end_time": "2023-10-04T16:40:07.141138Z",
     "start_time": "2023-10-04T16:40:07.116663Z"
    }
   },
   "id": "d8853463df8cbf7b"
  },
  {
   "cell_type": "code",
   "execution_count": 89,
   "outputs": [
    {
     "data": {
      "text/plain": "tensor([[2, 2, 2],\n        [2, 2, 2],\n        [2, 2, 2]], dtype=torch.int32)"
     },
     "execution_count": 89,
     "metadata": {},
     "output_type": "execute_result"
    }
   ],
   "source": [
    "tensor_ones+1"
   ],
   "metadata": {
    "collapsed": false,
    "ExecuteTime": {
     "end_time": "2023-10-04T16:40:10.217642Z",
     "start_time": "2023-10-04T16:40:10.190508Z"
    }
   },
   "id": "f1b0265f682f1215"
  },
  {
   "cell_type": "markdown",
   "source": [
    "## PyTorch reproducibility"
   ],
   "metadata": {
    "collapsed": false
   },
   "id": "6bd8f7bfc7a51f6c"
  },
  {
   "cell_type": "code",
   "execution_count": 90,
   "outputs": [
    {
     "data": {
      "text/plain": "tensor([[False, False, False, False, False],\n        [False, False, False, False, False],\n        [False, False, False, False, False]])"
     },
     "execution_count": 90,
     "metadata": {},
     "output_type": "execute_result"
    }
   ],
   "source": [
    "random_tensor_A = torch.rand((3,5))\n",
    "random_tensor_B = torch.rand((3,5))\n",
    "random_tensor_A == random_tensor_B"
   ],
   "metadata": {
    "collapsed": false,
    "ExecuteTime": {
     "end_time": "2023-10-04T16:44:11.035093Z",
     "start_time": "2023-10-04T16:44:11.024494Z"
    }
   },
   "id": "95095a81cffdda22"
  },
  {
   "cell_type": "code",
   "execution_count": 93,
   "outputs": [
    {
     "data": {
      "text/plain": "tensor([[True, True, True, True, True],\n        [True, True, True, True, True],\n        [True, True, True, True, True]])"
     },
     "execution_count": 93,
     "metadata": {},
     "output_type": "execute_result"
    }
   ],
   "source": [
    "# flavour out the random number \n",
    "RANDOM_SEED = 42\n",
    "torch.manual_seed(RANDOM_SEED)\n",
    "\n",
    "random_tensor_A = torch.rand((3,5))\n",
    "torch.manual_seed(RANDOM_SEED)\n",
    "random_tensor_B = torch.rand((3,5))\n",
    "random_tensor_A == random_tensor_B"
   ],
   "metadata": {
    "collapsed": false,
    "ExecuteTime": {
     "end_time": "2023-10-04T16:46:10.370379Z",
     "start_time": "2023-10-04T16:46:10.356752Z"
    }
   },
   "id": "d32a030bc694aa3b"
  },
  {
   "cell_type": "markdown",
   "source": [
    "## GPU acceleration"
   ],
   "metadata": {
    "collapsed": false
   },
   "id": "cea1b3b74b191ed9"
  },
  {
   "cell_type": "code",
   "execution_count": 96,
   "outputs": [
    {
     "data": {
      "text/plain": "False"
     },
     "execution_count": 96,
     "metadata": {},
     "output_type": "execute_result"
    }
   ],
   "source": [
    "torch.cuda.is_available()"
   ],
   "metadata": {
    "collapsed": false,
    "ExecuteTime": {
     "end_time": "2023-10-04T16:53:26.862264Z",
     "start_time": "2023-10-04T16:53:26.840711Z"
    }
   },
   "id": "c132f3f4201465a3"
  },
  {
   "cell_type": "code",
   "execution_count": 97,
   "outputs": [],
   "source": [
    "## enable gpu for mac\n",
    "device = \"cuda\" if torch.cuda.is_available() else \"cpu\""
   ],
   "metadata": {
    "collapsed": false,
    "ExecuteTime": {
     "end_time": "2023-10-04T16:54:13.143908Z",
     "start_time": "2023-10-04T16:54:13.131604Z"
    }
   },
   "id": "d43d3ffc1f6bbf58"
  },
  {
   "cell_type": "code",
   "execution_count": 103,
   "outputs": [
    {
     "data": {
      "text/plain": "0"
     },
     "execution_count": 103,
     "metadata": {},
     "output_type": "execute_result"
    }
   ],
   "source": [
    "# count the number of devices\n",
    "torch.cuda.device_count()"
   ],
   "metadata": {
    "collapsed": false,
    "ExecuteTime": {
     "end_time": "2023-10-04T16:54:55.514104Z",
     "start_time": "2023-10-04T16:54:55.454265Z"
    }
   },
   "id": "e1e3f3636d2daa3e"
  },
  {
   "cell_type": "code",
   "execution_count": null,
   "outputs": [],
   "source": [],
   "metadata": {
    "collapsed": false
   },
   "id": "5cc99ceae05497e9"
  }
 ],
 "metadata": {
  "kernelspec": {
   "display_name": "Python 3",
   "language": "python",
   "name": "python3"
  },
  "language_info": {
   "codemirror_mode": {
    "name": "ipython",
    "version": 2
   },
   "file_extension": ".py",
   "mimetype": "text/x-python",
   "name": "python",
   "nbconvert_exporter": "python",
   "pygments_lexer": "ipython2",
   "version": "2.7.6"
  }
 },
 "nbformat": 4,
 "nbformat_minor": 5
}
