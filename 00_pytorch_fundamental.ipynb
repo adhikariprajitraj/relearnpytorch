{
 "cells": [
  {
   "cell_type": "code",
   "execution_count": 1,
   "id": "initial_id",
   "metadata": {
    "collapsed": true,
    "ExecuteTime": {
     "end_time": "2023-10-04T15:34:32.576055Z",
     "start_time": "2023-10-04T15:34:30.337296Z"
    }
   },
   "outputs": [],
   "source": [
    "import torch\n",
    "import pandas as pd\n",
    "import numpy as np\n",
    "import matplotlib.pyplot as plt"
   ]
  },
  {
   "cell_type": "markdown",
   "source": [
    "# Introduction to Tensors"
   ],
   "metadata": {
    "collapsed": false
   },
   "id": "73af42a9f5c460b6"
  },
  {
   "cell_type": "code",
   "execution_count": 2,
   "outputs": [
    {
     "data": {
      "text/plain": "tensor(3.1415)"
     },
     "execution_count": 2,
     "metadata": {},
     "output_type": "execute_result"
    }
   ],
   "source": [
    "scalar = torch.tensor(3.1415)\n",
    "scalar"
   ],
   "metadata": {
    "collapsed": false,
    "ExecuteTime": {
     "end_time": "2023-10-04T15:34:32.615582Z",
     "start_time": "2023-10-04T15:34:32.578599Z"
    }
   },
   "id": "37c9374d5bbf977f"
  },
  {
   "cell_type": "code",
   "execution_count": 3,
   "outputs": [
    {
     "data": {
      "text/plain": "0"
     },
     "execution_count": 3,
     "metadata": {},
     "output_type": "execute_result"
    }
   ],
   "source": [
    "scalar.ndim"
   ],
   "metadata": {
    "collapsed": false,
    "ExecuteTime": {
     "end_time": "2023-10-04T15:34:32.615891Z",
     "start_time": "2023-10-04T15:34:32.609307Z"
    }
   },
   "id": "a8fa82b4755c4c5e"
  },
  {
   "cell_type": "code",
   "execution_count": 4,
   "outputs": [
    {
     "data": {
      "text/plain": "3.1414999961853027"
     },
     "execution_count": 4,
     "metadata": {},
     "output_type": "execute_result"
    }
   ],
   "source": [
    "scalar.item()"
   ],
   "metadata": {
    "collapsed": false,
    "ExecuteTime": {
     "end_time": "2023-10-04T15:34:32.616130Z",
     "start_time": "2023-10-04T15:34:32.612577Z"
    }
   },
   "id": "f90a83c76b106165"
  },
  {
   "cell_type": "code",
   "execution_count": 5,
   "outputs": [],
   "source": [
    "# vector\n",
    "vector = torch.tensor([1,2,3,4])"
   ],
   "metadata": {
    "collapsed": false,
    "ExecuteTime": {
     "end_time": "2023-10-04T15:34:32.619620Z",
     "start_time": "2023-10-04T15:34:32.617739Z"
    }
   },
   "id": "d39a27a501b5d1ce"
  },
  {
   "cell_type": "code",
   "execution_count": 6,
   "outputs": [
    {
     "data": {
      "text/plain": "1"
     },
     "execution_count": 6,
     "metadata": {},
     "output_type": "execute_result"
    }
   ],
   "source": [
    "vector.ndim"
   ],
   "metadata": {
    "collapsed": false,
    "ExecuteTime": {
     "end_time": "2023-10-04T15:34:32.634862Z",
     "start_time": "2023-10-04T15:34:32.619789Z"
    }
   },
   "id": "fcb972040beabfa4"
  },
  {
   "cell_type": "code",
   "execution_count": 7,
   "outputs": [
    {
     "data": {
      "text/plain": "torch.Size([4])"
     },
     "execution_count": 7,
     "metadata": {},
     "output_type": "execute_result"
    }
   ],
   "source": [
    "vector.shape"
   ],
   "metadata": {
    "collapsed": false,
    "ExecuteTime": {
     "end_time": "2023-10-04T15:34:32.635353Z",
     "start_time": "2023-10-04T15:34:32.623030Z"
    }
   },
   "id": "d89bdf233ab2a02b"
  },
  {
   "cell_type": "code",
   "execution_count": 8,
   "outputs": [],
   "source": [
    "# matrix\n",
    "matrix = torch.tensor([[1,2,3],[4,5,6]])"
   ],
   "metadata": {
    "collapsed": false,
    "ExecuteTime": {
     "end_time": "2023-10-04T15:34:32.635482Z",
     "start_time": "2023-10-04T15:34:32.625681Z"
    }
   },
   "id": "e6ee25dc5f50074a"
  },
  {
   "cell_type": "code",
   "execution_count": 9,
   "outputs": [
    {
     "data": {
      "text/plain": "2"
     },
     "execution_count": 9,
     "metadata": {},
     "output_type": "execute_result"
    }
   ],
   "source": [
    "matrix.ndim"
   ],
   "metadata": {
    "collapsed": false,
    "ExecuteTime": {
     "end_time": "2023-10-04T15:34:32.635670Z",
     "start_time": "2023-10-04T15:34:32.628666Z"
    }
   },
   "id": "f0b67fbbd47d651e"
  },
  {
   "cell_type": "code",
   "execution_count": 10,
   "outputs": [
    {
     "data": {
      "text/plain": "torch.Size([2, 3])"
     },
     "execution_count": 10,
     "metadata": {},
     "output_type": "execute_result"
    }
   ],
   "source": [
    "matrix.shape"
   ],
   "metadata": {
    "collapsed": false,
    "ExecuteTime": {
     "end_time": "2023-10-04T15:34:32.635998Z",
     "start_time": "2023-10-04T15:34:32.631585Z"
    }
   },
   "id": "dd5448a5e99916b9"
  },
  {
   "cell_type": "code",
   "execution_count": 11,
   "outputs": [],
   "source": [
    "# tensor\n",
    "tensor = torch.tensor([[[1,2,3],[2,3,4]]])"
   ],
   "metadata": {
    "collapsed": false,
    "ExecuteTime": {
     "end_time": "2023-10-04T15:34:32.702125Z",
     "start_time": "2023-10-04T15:34:32.635423Z"
    }
   },
   "id": "df99fde78dc15ce2"
  },
  {
   "cell_type": "code",
   "execution_count": 12,
   "outputs": [
    {
     "data": {
      "text/plain": "3"
     },
     "execution_count": 12,
     "metadata": {},
     "output_type": "execute_result"
    }
   ],
   "source": [
    "tensor.ndim"
   ],
   "metadata": {
    "collapsed": false,
    "ExecuteTime": {
     "end_time": "2023-10-04T15:34:32.717668Z",
     "start_time": "2023-10-04T15:34:32.637821Z"
    }
   },
   "id": "810768474e0fdc92"
  },
  {
   "cell_type": "code",
   "execution_count": 13,
   "outputs": [
    {
     "data": {
      "text/plain": "torch.Size([1, 2, 3])"
     },
     "execution_count": 13,
     "metadata": {},
     "output_type": "execute_result"
    }
   ],
   "source": [
    "tensor.shape"
   ],
   "metadata": {
    "collapsed": false,
    "ExecuteTime": {
     "end_time": "2023-10-04T15:34:32.718571Z",
     "start_time": "2023-10-04T15:34:32.641237Z"
    }
   },
   "id": "193e6d88454901bb"
  },
  {
   "cell_type": "code",
   "execution_count": 14,
   "outputs": [
    {
     "data": {
      "text/plain": "tensor([[1, 2, 3],\n        [2, 3, 4]])"
     },
     "execution_count": 14,
     "metadata": {},
     "output_type": "execute_result"
    }
   ],
   "source": [
    "tensor[0]"
   ],
   "metadata": {
    "collapsed": false,
    "ExecuteTime": {
     "end_time": "2023-10-04T15:34:32.719214Z",
     "start_time": "2023-10-04T15:34:32.647442Z"
    }
   },
   "id": "c54178dbd40869a0"
  },
  {
   "cell_type": "markdown",
   "source": [
    "## Random tensor\n",
    "Random tensor is a tensor of a given shape, with random values for each element. The random values are sampled from a uniform distribution between 0 and 1."
   ],
   "metadata": {
    "collapsed": false
   },
   "id": "330a372ef1b5a761"
  },
  {
   "cell_type": "code",
   "execution_count": 15,
   "outputs": [
    {
     "data": {
      "text/plain": "tensor([[0.2945, 0.5487, 0.7120, 0.9045],\n        [0.2531, 0.1728, 0.1203, 0.4021],\n        [0.8717, 0.6537, 0.9715, 0.6302]])"
     },
     "execution_count": 15,
     "metadata": {},
     "output_type": "execute_result"
    }
   ],
   "source": [
    "random_tensor = torch.rand(3,4)\n",
    "random_tensor"
   ],
   "metadata": {
    "collapsed": false,
    "ExecuteTime": {
     "end_time": "2023-10-04T15:34:32.719588Z",
     "start_time": "2023-10-04T15:34:32.651340Z"
    }
   },
   "id": "464c20fe12aed8fb"
  },
  {
   "cell_type": "code",
   "execution_count": 16,
   "outputs": [
    {
     "data": {
      "text/plain": "2"
     },
     "execution_count": 16,
     "metadata": {},
     "output_type": "execute_result"
    }
   ],
   "source": [
    "random_tensor.ndim"
   ],
   "metadata": {
    "collapsed": false,
    "ExecuteTime": {
     "end_time": "2023-10-04T15:34:32.720335Z",
     "start_time": "2023-10-04T15:34:32.656460Z"
    }
   },
   "id": "466c874ad094de80"
  },
  {
   "cell_type": "code",
   "execution_count": 17,
   "outputs": [
    {
     "data": {
      "text/plain": "torch.Size([3, 4])"
     },
     "execution_count": 17,
     "metadata": {},
     "output_type": "execute_result"
    }
   ],
   "source": [
    "random_tensor.shape"
   ],
   "metadata": {
    "collapsed": false,
    "ExecuteTime": {
     "end_time": "2023-10-04T15:34:32.720772Z",
     "start_time": "2023-10-04T15:34:32.659300Z"
    }
   },
   "id": "74a9acbf6f1381"
  },
  {
   "cell_type": "code",
   "execution_count": 18,
   "outputs": [],
   "source": [
    "# Random tensor with normal distribution\n",
    "random_tensor_normal = torch.randn(3,4)"
   ],
   "metadata": {
    "collapsed": false,
    "ExecuteTime": {
     "end_time": "2023-10-04T15:34:32.721123Z",
     "start_time": "2023-10-04T15:34:32.662371Z"
    }
   },
   "id": "c0bfef14843346ec"
  },
  {
   "cell_type": "code",
   "execution_count": 19,
   "outputs": [
    {
     "data": {
      "text/plain": "tensor([[-0.7084,  1.1721,  0.9090,  0.9883],\n        [ 0.1939,  0.4397,  2.3501, -0.1885],\n        [-1.3553,  1.3604,  0.4559, -1.1192]])"
     },
     "execution_count": 19,
     "metadata": {},
     "output_type": "execute_result"
    }
   ],
   "source": [
    "random_tensor_normal"
   ],
   "metadata": {
    "collapsed": false,
    "ExecuteTime": {
     "end_time": "2023-10-04T15:34:32.721591Z",
     "start_time": "2023-10-04T15:34:32.665530Z"
    }
   },
   "id": "51c82bd390bd663e"
  },
  {
   "cell_type": "code",
   "execution_count": 20,
   "outputs": [
    {
     "data": {
      "text/plain": "2"
     },
     "execution_count": 20,
     "metadata": {},
     "output_type": "execute_result"
    }
   ],
   "source": [
    "random_tensor_normal.ndim"
   ],
   "metadata": {
    "collapsed": false,
    "ExecuteTime": {
     "end_time": "2023-10-04T15:34:32.722140Z",
     "start_time": "2023-10-04T15:34:32.668983Z"
    }
   },
   "id": "a80fc365a158b062"
  },
  {
   "cell_type": "code",
   "execution_count": 21,
   "outputs": [
    {
     "data": {
      "text/plain": "torch.Size([3, 4])"
     },
     "execution_count": 21,
     "metadata": {},
     "output_type": "execute_result"
    }
   ],
   "source": [
    "random_tensor_normal.shape"
   ],
   "metadata": {
    "collapsed": false,
    "ExecuteTime": {
     "end_time": "2023-10-04T15:34:32.722453Z",
     "start_time": "2023-10-04T15:34:32.672056Z"
    }
   },
   "id": "9d2370bd0bf51087"
  },
  {
   "cell_type": "code",
   "execution_count": 22,
   "outputs": [],
   "source": [
    "# Random tensor with random integers\n",
    "random_tensor_int = torch.rand(10,10,10)"
   ],
   "metadata": {
    "collapsed": false,
    "ExecuteTime": {
     "end_time": "2023-10-04T15:34:32.722561Z",
     "start_time": "2023-10-04T15:34:32.674887Z"
    }
   },
   "id": "31b4973bba95ca03"
  },
  {
   "cell_type": "code",
   "execution_count": 23,
   "outputs": [
    {
     "data": {
      "text/plain": "tensor([[[2.4418e-01, 5.5138e-01, 1.7627e-02, 1.3469e-02, 6.2997e-01,\n          7.4950e-01, 1.8162e-01, 4.9051e-01, 5.6989e-01, 6.4674e-01],\n         [3.2873e-01, 7.7813e-01, 5.8773e-01, 7.0842e-01, 1.8979e-01,\n          5.1142e-01, 7.2492e-01, 4.5433e-01, 6.1527e-02, 4.1028e-01],\n         [8.4375e-02, 7.9425e-02, 7.8994e-01, 9.5383e-01, 7.6816e-01,\n          7.8015e-01, 6.4693e-01, 2.8548e-01, 9.8630e-01, 2.9393e-01],\n         [4.6165e-01, 9.5853e-01, 3.0024e-01, 1.9024e-02, 4.7821e-01,\n          1.8909e-01, 9.6905e-01, 5.7074e-01, 5.3386e-01, 9.2303e-01],\n         [1.4408e-01, 1.7812e-01, 3.6697e-01, 8.6096e-01, 5.8873e-02,\n          6.1390e-01, 1.7748e-01, 6.6473e-01, 3.0024e-01, 1.5665e-01],\n         [8.2962e-01, 2.5879e-01, 1.0925e-01, 8.3650e-01, 3.1173e-01,\n          5.6130e-01, 9.6729e-01, 7.7946e-01, 5.6999e-01, 7.9438e-01],\n         [5.9165e-01, 3.7889e-01, 6.2826e-02, 5.5481e-01, 1.6181e-01,\n          2.7859e-01, 8.4569e-01, 4.0708e-03, 7.2775e-01, 9.2161e-02],\n         [2.5181e-01, 5.8627e-01, 8.2084e-01, 6.4082e-01, 5.0194e-01,\n          8.2579e-01, 3.7344e-01, 8.4356e-01, 3.3309e-03, 2.8462e-01],\n         [3.2791e-01, 6.8806e-01, 5.6704e-01, 2.5571e-01, 5.3763e-01,\n          8.0868e-01, 9.0556e-02, 1.5779e-01, 8.3998e-01, 3.0132e-01],\n         [6.5254e-01, 5.2331e-01, 6.6306e-01, 7.3014e-01, 6.0442e-01,\n          7.2772e-01, 5.6907e-01, 4.7015e-01, 3.7568e-01, 7.2801e-02]],\n\n        [[6.2542e-01, 1.6014e-01, 3.8341e-01, 4.7886e-01, 6.0872e-01,\n          7.1879e-01, 2.0895e-02, 5.8287e-01, 2.6156e-01, 1.2462e-02],\n         [9.4735e-01, 7.8905e-01, 3.3876e-01, 5.9605e-01, 3.5950e-01,\n          6.9536e-02, 8.5115e-01, 3.4287e-01, 7.6713e-01, 3.1133e-01],\n         [3.2187e-02, 3.3655e-01, 9.3791e-01, 9.5498e-01, 9.5285e-01,\n          5.6741e-01, 7.9047e-01, 1.3236e-01, 3.7502e-01, 1.9839e-01],\n         [6.5981e-02, 2.3308e-01, 4.5970e-01, 9.8225e-01, 4.0101e-01,\n          7.4034e-01, 6.0828e-01, 8.3843e-01, 2.4541e-01, 9.6033e-01],\n         [3.2427e-01, 5.0023e-01, 9.3147e-01, 2.6398e-02, 2.3211e-01,\n          2.4757e-02, 3.4349e-01, 9.2663e-01, 8.6907e-02, 8.0744e-01],\n         [2.1249e-01, 3.8541e-01, 1.4923e-01, 2.2442e-01, 2.0855e-01,\n          9.1466e-01, 9.4162e-01, 3.8412e-01, 9.6282e-01, 5.7061e-01],\n         [2.2268e-01, 4.6735e-01, 3.4543e-01, 8.9557e-01, 5.3994e-01,\n          2.2544e-01, 8.1716e-03, 5.7884e-01, 1.2709e-01, 5.1965e-01],\n         [9.0517e-01, 3.8459e-02, 5.0583e-01, 7.2183e-01, 3.6362e-01,\n          8.6588e-01, 8.9486e-02, 2.6616e-01, 6.0230e-01, 5.6412e-02],\n         [5.3018e-01, 2.3798e-02, 3.0945e-01, 8.9923e-01, 6.6165e-01,\n          2.3522e-01, 6.4442e-01, 2.2267e-01, 6.7164e-01, 4.7218e-01],\n         [4.0263e-01, 2.6039e-01, 1.4277e-01, 5.3838e-01, 8.2124e-01,\n          1.1506e-02, 2.9797e-01, 9.8324e-01, 4.3631e-01, 5.6922e-01]],\n\n        [[7.2426e-01, 1.6027e-01, 1.8614e-01, 9.1842e-01, 2.5387e-01,\n          4.3311e-01, 7.6224e-02, 6.4209e-01, 1.1355e-01, 1.1286e-01],\n         [1.5771e-01, 1.1899e-01, 3.0743e-01, 8.2337e-01, 2.9517e-01,\n          1.8792e-01, 1.0882e-01, 3.3273e-01, 3.5815e-01, 1.0831e-01],\n         [4.5360e-01, 8.3383e-01, 5.2607e-01, 2.2792e-01, 1.2619e-01,\n          1.4547e-01, 5.2606e-01, 8.2722e-01, 4.8788e-01, 3.7302e-01],\n         [5.2991e-02, 4.8132e-02, 3.0369e-01, 9.2017e-01, 8.9854e-01,\n          4.9364e-01, 7.2123e-01, 8.2847e-01, 3.0096e-01, 1.0795e-01],\n         [9.3334e-01, 2.4970e-01, 4.8568e-01, 8.7886e-01, 3.1695e-01,\n          6.6789e-02, 5.8273e-01, 5.3769e-01, 5.0551e-01, 9.6835e-02],\n         [4.7552e-01, 3.9121e-01, 9.8782e-01, 4.1884e-02, 3.7883e-01,\n          4.5601e-01, 3.5867e-01, 7.6035e-02, 5.6261e-01, 1.3295e-01],\n         [3.8659e-01, 8.5675e-01, 2.9717e-01, 7.7899e-01, 5.2178e-01,\n          1.1474e-01, 5.9915e-02, 5.0357e-01, 7.8506e-01, 9.5988e-01],\n         [3.5208e-01, 4.4947e-01, 5.9485e-02, 1.3122e-01, 4.5575e-01,\n          4.8251e-01, 9.2111e-01, 1.8211e-01, 8.3276e-01, 6.9095e-01],\n         [3.9538e-01, 9.2091e-01, 4.8689e-01, 3.2387e-02, 2.1820e-01,\n          8.8792e-01, 5.0151e-02, 4.6789e-01, 1.0554e-01, 7.9356e-01],\n         [9.0931e-01, 1.9311e-01, 4.2289e-01, 4.4387e-01, 6.1831e-01,\n          9.6874e-02, 5.2836e-02, 5.9583e-01, 5.6836e-01, 4.4951e-01]],\n\n        [[8.5889e-01, 4.1838e-01, 1.0067e-01, 2.1637e-02, 1.5488e-01,\n          6.2165e-02, 1.5518e-01, 4.8790e-01, 8.0788e-01, 3.8646e-01],\n         [9.4861e-01, 3.9336e-01, 6.2901e-02, 1.8391e-01, 2.5554e-01,\n          8.7047e-01, 1.1944e-02, 1.5973e-02, 8.3710e-01, 7.4508e-01],\n         [6.9725e-01, 5.0947e-01, 1.2206e-01, 4.3370e-01, 4.4439e-01,\n          2.8917e-01, 5.6464e-01, 2.7753e-01, 3.2900e-02, 3.8841e-01],\n         [4.9664e-01, 1.8113e-01, 6.7330e-01, 3.7202e-01, 5.6538e-01,\n          9.5610e-01, 8.6237e-01, 9.1229e-02, 9.9906e-01, 8.1084e-01],\n         [9.2298e-02, 4.7731e-01, 1.6865e-02, 3.7494e-01, 1.1319e-01,\n          5.8558e-01, 3.8229e-02, 4.1429e-01, 1.6075e-01, 2.1277e-01],\n         [7.0148e-01, 2.1491e-01, 1.2700e-01, 3.8916e-01, 7.7275e-01,\n          7.0251e-01, 9.9152e-01, 8.4673e-01, 4.7580e-02, 5.6674e-01],\n         [6.9252e-01, 5.0039e-01, 1.2183e-01, 5.9631e-01, 9.9705e-01,\n          6.2516e-01, 2.8967e-01, 3.4185e-02, 5.6877e-01, 3.4361e-01],\n         [2.9526e-01, 4.4903e-01, 8.9161e-01, 9.8957e-02, 8.3849e-01,\n          2.8113e-01, 9.1481e-01, 9.2802e-01, 1.1574e-01, 5.4819e-01],\n         [5.6752e-02, 4.5446e-01, 2.9641e-01, 2.3324e-01, 4.4331e-01,\n          7.9365e-01, 3.6930e-01, 8.2749e-01, 5.6975e-01, 5.9317e-01],\n         [9.3818e-01, 9.4028e-01, 4.4479e-01, 9.0754e-01, 9.2431e-01,\n          1.2797e-01, 6.7671e-01, 2.0556e-01, 7.9240e-01, 6.2052e-01]],\n\n        [[1.7583e-01, 6.8491e-01, 6.0343e-01, 7.6456e-01, 6.6287e-01,\n          4.5682e-01, 1.0447e-01, 2.4721e-01, 8.7549e-01, 3.5241e-01],\n         [3.8365e-01, 3.0352e-01, 3.8177e-01, 4.5302e-01, 3.0414e-01,\n          1.7033e-02, 2.3944e-01, 2.5792e-01, 7.9214e-01, 3.2597e-01],\n         [7.3945e-01, 4.2409e-02, 9.1692e-01, 5.9047e-01, 9.8418e-01,\n          5.2211e-01, 4.4030e-01, 1.3239e-01, 7.6511e-01, 4.6260e-01],\n         [9.3845e-01, 6.0666e-01, 5.2589e-01, 7.6272e-01, 2.8105e-01,\n          3.1115e-01, 7.9182e-01, 7.6880e-01, 1.5889e-01, 3.5195e-01],\n         [6.7038e-02, 5.2938e-01, 2.2639e-01, 2.9344e-01, 3.0209e-01,\n          8.4942e-01, 8.8743e-01, 7.3557e-01, 5.9250e-01, 9.8487e-01],\n         [7.0720e-01, 7.3594e-01, 8.6104e-01, 6.1433e-01, 1.0875e-01,\n          5.9615e-01, 5.2890e-01, 3.4305e-01, 1.0177e-01, 5.2601e-01],\n         [1.5952e-01, 9.9786e-01, 7.0104e-01, 6.8544e-01, 4.5905e-01,\n          8.9973e-01, 3.0442e-01, 2.4491e-01, 8.4937e-05, 5.3433e-01],\n         [4.0217e-01, 9.3166e-01, 8.4683e-01, 3.9500e-01, 8.3741e-01,\n          8.3629e-01, 2.2935e-02, 4.7712e-01, 6.4722e-01, 2.8618e-01],\n         [1.2473e-01, 3.8590e-01, 8.5095e-01, 1.6998e-01, 3.1893e-01,\n          9.9748e-01, 5.0929e-01, 5.1613e-01, 7.0829e-01, 6.9832e-01],\n         [3.7498e-01, 6.4387e-02, 9.2994e-01, 9.4309e-01, 4.6082e-01,\n          9.7170e-01, 3.5424e-01, 3.8191e-01, 6.7931e-01, 8.7001e-01]],\n\n        [[2.3910e-01, 3.4423e-01, 9.8465e-01, 4.7404e-01, 7.7299e-01,\n          2.5589e-02, 4.7944e-01, 9.4099e-01, 7.5118e-01, 1.8414e-01],\n         [8.0055e-01, 1.2391e-02, 2.2038e-01, 1.0070e-01, 2.0379e-01,\n          6.1952e-01, 6.6555e-01, 5.6283e-01, 1.6561e-01, 8.8152e-01],\n         [7.9233e-01, 9.2010e-02, 4.7853e-01, 5.1506e-01, 5.5277e-01,\n          6.1787e-01, 1.8701e-01, 4.9694e-01, 7.2408e-01, 6.8404e-01],\n         [6.1209e-01, 4.2050e-01, 2.8973e-03, 2.3514e-01, 6.3515e-01,\n          9.3797e-01, 7.9065e-01, 2.4928e-01, 5.1673e-01, 4.0313e-01],\n         [5.3154e-01, 3.8297e-02, 8.2054e-01, 1.8301e-01, 9.5651e-01,\n          5.7941e-01, 5.3942e-01, 2.4360e-02, 1.0988e-01, 4.5178e-01],\n         [4.1298e-01, 2.8301e-01, 3.2810e-01, 4.7463e-01, 2.1816e-01,\n          1.7322e-01, 3.1924e-01, 8.9827e-01, 3.7789e-01, 4.4904e-01],\n         [8.6142e-02, 5.3263e-01, 8.4437e-01, 9.4788e-01, 4.0703e-01,\n          2.9269e-01, 2.6710e-01, 2.0554e-01, 2.7670e-01, 9.0047e-02],\n         [8.0593e-01, 9.4084e-01, 7.5933e-01, 8.3272e-01, 9.1720e-01,\n          7.8723e-01, 1.1339e-01, 3.8750e-02, 8.3715e-01, 4.2117e-01],\n         [4.0700e-01, 7.6127e-01, 7.3069e-01, 3.4323e-01, 4.4499e-01,\n          4.8132e-01, 6.0471e-01, 7.9600e-01, 7.9873e-01, 1.5301e-01],\n         [2.7624e-01, 1.5698e-01, 4.5985e-01, 6.3817e-01, 5.5928e-01,\n          7.3463e-01, 7.9960e-02, 9.4612e-01, 1.0699e-01, 8.8549e-01]],\n\n        [[4.9365e-01, 4.8681e-01, 9.4127e-01, 7.6840e-01, 8.5725e-01,\n          4.9135e-01, 7.2906e-01, 2.3652e-01, 9.1168e-02, 3.6231e-01],\n         [6.9315e-01, 2.0533e-02, 6.5961e-02, 5.8302e-01, 3.3932e-01,\n          9.3450e-01, 5.2972e-01, 9.2751e-01, 3.2731e-01, 9.6471e-01],\n         [1.7831e-01, 1.0842e-01, 9.5662e-01, 9.7569e-01, 6.0185e-01,\n          2.3127e-02, 2.7401e-01, 9.0406e-01, 1.6338e-01, 1.3721e-01],\n         [1.9539e-01, 8.5379e-01, 1.9179e-01, 8.2946e-01, 5.9445e-01,\n          3.0771e-01, 3.5079e-01, 4.9642e-01, 3.7992e-01, 8.5816e-01],\n         [1.6950e-01, 1.9832e-02, 5.9240e-01, 2.5039e-02, 9.8440e-02,\n          5.6758e-01, 9.4824e-02, 1.2726e-01, 9.6792e-01, 6.7787e-01],\n         [1.1269e-02, 6.3082e-02, 2.9378e-01, 4.1285e-01, 8.7955e-01,\n          8.4181e-01, 9.1714e-01, 6.3042e-01, 6.7611e-01, 6.8620e-01],\n         [1.5240e-01, 3.1450e-01, 8.4743e-02, 7.8437e-01, 8.4716e-01,\n          2.9175e-02, 1.3805e-01, 7.8855e-01, 7.8211e-01, 8.3507e-01],\n         [1.8653e-01, 5.0239e-01, 8.5648e-01, 7.8219e-01, 1.1105e-01,\n          7.2981e-01, 2.4506e-01, 5.0199e-01, 4.9558e-01, 2.5902e-01],\n         [6.7379e-01, 5.2286e-01, 1.1071e-01, 1.1777e-01, 4.7136e-02,\n          5.6865e-01, 7.1746e-01, 1.5044e-01, 1.4101e-01, 5.7185e-01],\n         [6.2507e-01, 9.7658e-03, 8.3288e-02, 5.5869e-01, 8.5688e-01,\n          7.3032e-01, 6.6992e-01, 2.0728e-01, 3.6970e-01, 2.9895e-01]],\n\n        [[8.7251e-01, 9.4853e-01, 6.0150e-01, 3.7016e-02, 7.0402e-01,\n          6.7272e-01, 2.5919e-01, 5.7181e-01, 4.5488e-01, 8.7255e-01],\n         [4.3255e-01, 1.7403e-01, 6.9731e-01, 6.9071e-01, 4.9913e-01,\n          9.1312e-01, 8.2315e-01, 9.0631e-03, 6.0842e-01, 8.4306e-02],\n         [6.9481e-02, 7.7617e-01, 6.0666e-01, 3.7175e-01, 1.0915e-01,\n          6.8045e-02, 6.1078e-01, 3.7865e-01, 2.2173e-01, 3.7893e-01],\n         [8.1755e-01, 5.5007e-01, 6.3850e-01, 8.7074e-01, 7.7389e-01,\n          3.4571e-01, 7.0864e-01, 6.4871e-01, 6.4337e-01, 4.6553e-02],\n         [3.6201e-01, 1.9393e-01, 5.0019e-01, 8.0455e-01, 4.9877e-01,\n          4.6999e-01, 7.3370e-01, 2.6772e-02, 9.3111e-01, 9.2921e-01],\n         [3.9968e-02, 2.3317e-01, 4.2707e-01, 6.3448e-01, 2.9752e-01,\n          9.1908e-01, 6.7561e-01, 3.5777e-01, 3.9374e-01, 3.5440e-02],\n         [1.6341e-01, 7.4524e-01, 3.5067e-01, 1.2731e-01, 7.8719e-01,\n          5.7505e-01, 7.7439e-01, 4.9996e-01, 2.7314e-01, 5.2671e-01],\n         [6.9530e-01, 9.9867e-01, 6.0396e-01, 1.9009e-01, 2.5764e-01,\n          2.4551e-02, 3.4650e-01, 4.7882e-01, 2.1650e-01, 4.1064e-01],\n         [9.6451e-01, 7.8444e-01, 1.4214e-01, 8.5323e-01, 6.6272e-01,\n          3.3385e-01, 6.5678e-01, 2.8191e-01, 4.7178e-01, 4.6347e-01],\n         [4.4951e-01, 5.7390e-01, 9.8637e-01, 5.8411e-01, 6.1761e-02,\n          1.0559e-01, 9.2041e-01, 8.2453e-01, 8.0289e-01, 8.9926e-01]],\n\n        [[1.2869e-01, 3.0848e-01, 9.8549e-01, 4.8493e-01, 9.4659e-01,\n          8.8696e-02, 2.1850e-01, 4.4902e-01, 8.9637e-01, 6.2766e-01],\n         [5.8809e-01, 3.0034e-01, 2.3004e-01, 2.1768e-01, 2.2033e-01,\n          3.0240e-01, 6.5872e-01, 6.8919e-01, 9.4764e-01, 7.3313e-01],\n         [6.3511e-01, 5.6775e-01, 4.3703e-01, 9.7542e-01, 6.2678e-01,\n          3.0910e-01, 8.8805e-01, 3.6023e-02, 9.5901e-01, 2.1353e-01],\n         [1.2975e-01, 6.4252e-01, 2.8544e-01, 2.4870e-01, 9.0050e-01,\n          3.5681e-01, 1.9716e-01, 1.8313e-02, 1.8093e-01, 8.7242e-01],\n         [2.1011e-01, 4.7888e-01, 1.1899e-01, 9.9007e-01, 6.0316e-01,\n          6.9972e-01, 6.7529e-01, 8.2881e-01, 1.7370e-01, 4.5131e-01],\n         [5.0752e-01, 2.6678e-01, 3.3937e-01, 9.0857e-01, 6.3853e-01,\n          7.4070e-01, 1.9676e-01, 1.9216e-02, 1.6261e-01, 4.9706e-01],\n         [5.8259e-01, 8.5127e-01, 5.3368e-01, 8.3601e-01, 4.5027e-01,\n          6.6079e-01, 1.3880e-02, 7.8406e-01, 8.9891e-01, 6.2070e-01],\n         [9.6523e-01, 4.2908e-01, 5.2115e-01, 5.8673e-01, 5.7626e-02,\n          1.6399e-01, 6.5984e-01, 8.9942e-01, 1.8740e-01, 4.5902e-01],\n         [1.4669e-01, 8.4902e-02, 5.0130e-01, 9.2818e-01, 9.0826e-01,\n          6.8916e-02, 9.4401e-01, 5.9374e-01, 9.4883e-01, 5.3753e-01],\n         [9.3641e-01, 6.1184e-01, 7.3441e-01, 4.4440e-01, 5.3266e-01,\n          7.3734e-01, 8.1397e-02, 4.8620e-01, 2.0696e-01, 2.9521e-01]],\n\n        [[7.4652e-01, 9.6405e-02, 1.9885e-01, 1.5352e-01, 6.3244e-01,\n          4.1944e-02, 5.9017e-01, 4.2647e-01, 5.7300e-01, 3.2278e-01],\n         [7.0309e-01, 3.8836e-01, 5.1127e-01, 5.6472e-01, 5.2390e-01,\n          2.2798e-01, 6.3455e-01, 7.4061e-01, 9.3949e-02, 2.8843e-01],\n         [6.2840e-01, 2.3923e-01, 6.1441e-02, 4.5907e-01, 4.7734e-01,\n          9.8419e-01, 3.9906e-01, 5.7959e-01, 6.9348e-01, 7.0431e-01],\n         [4.6274e-01, 5.3559e-01, 1.5276e-01, 4.5034e-01, 2.7420e-01,\n          7.5664e-01, 1.3290e-01, 8.6920e-01, 3.3554e-01, 9.1186e-01],\n         [4.6480e-01, 8.6877e-01, 1.6933e-01, 3.7094e-01, 5.7121e-01,\n          8.2678e-01, 8.3118e-01, 3.1931e-01, 1.8126e-01, 1.5800e-01],\n         [9.5335e-01, 9.6757e-02, 5.2316e-01, 4.2541e-01, 4.2080e-01,\n          2.8711e-01, 5.2865e-01, 7.8818e-01, 4.8487e-01, 2.2721e-01],\n         [4.6139e-01, 1.9118e-01, 8.7405e-01, 2.7840e-01, 5.0294e-01,\n          7.3575e-01, 6.2136e-02, 6.4253e-01, 8.7717e-01, 1.4000e-02],\n         [6.9143e-01, 4.5338e-01, 2.4247e-01, 6.1408e-01, 9.4759e-01,\n          3.4116e-01, 5.8726e-01, 4.4774e-01, 3.6793e-01, 9.4884e-01],\n         [2.6935e-01, 9.0292e-01, 8.5698e-01, 6.5581e-01, 8.2036e-02,\n          9.9999e-01, 8.5021e-01, 7.6334e-01, 7.8627e-01, 3.2247e-01],\n         [1.9397e-01, 9.3681e-01, 2.5114e-01, 6.5925e-01, 2.6390e-01,\n          6.6890e-01, 9.4653e-01, 9.5666e-01, 6.7279e-03, 3.9772e-02]]])"
     },
     "execution_count": 23,
     "metadata": {},
     "output_type": "execute_result"
    }
   ],
   "source": [
    "random_tensor_int"
   ],
   "metadata": {
    "collapsed": false,
    "ExecuteTime": {
     "end_time": "2023-10-04T15:34:32.734495Z",
     "start_time": "2023-10-04T15:34:32.677582Z"
    }
   },
   "id": "6951729c39001394"
  },
  {
   "cell_type": "markdown",
   "source": [
    "## Create random tensor similar to an image"
   ],
   "metadata": {
    "collapsed": false
   },
   "id": "ae6ccb6332d997a9"
  },
  {
   "cell_type": "code",
   "execution_count": 24,
   "outputs": [
    {
     "data": {
      "text/plain": "(tensor([[[[7.7548e-01, 3.0572e-01, 9.6353e-01,  ..., 4.9223e-01,\n            1.6636e-02, 1.2299e-01],\n           [8.1192e-01, 2.7240e-01, 6.6812e-01,  ..., 9.2803e-01,\n            5.1119e-01, 4.1617e-01],\n           [3.0269e-01, 1.0459e-01, 2.3262e-02,  ..., 6.1549e-01,\n            5.3623e-01, 3.9629e-01],\n           ...,\n           [3.9749e-01, 7.1658e-01, 8.5475e-01,  ..., 2.6933e-01,\n            2.9936e-01, 9.6109e-01],\n           [1.4400e-01, 7.2550e-01, 7.5643e-01,  ..., 8.3170e-01,\n            7.5891e-01, 4.5649e-01],\n           [9.3557e-01, 9.3814e-01, 2.8101e-01,  ..., 7.8093e-01,\n            8.0318e-01, 9.9214e-01]],\n \n          [[5.2876e-03, 6.1626e-01, 9.0689e-01,  ..., 3.1452e-01,\n            7.7092e-01, 7.9160e-01],\n           [5.1202e-01, 5.6116e-01, 9.9281e-01,  ..., 2.4352e-01,\n            3.1459e-01, 7.9209e-01],\n           [2.3176e-01, 5.2927e-01, 6.6490e-02,  ..., 7.2510e-01,\n            1.8003e-01, 3.2409e-01],\n           ...,\n           [7.9379e-01, 1.2353e-01, 4.2330e-01,  ..., 6.8384e-04,\n            7.0133e-01, 9.8728e-01],\n           [9.4990e-01, 2.0393e-01, 3.2671e-01,  ..., 2.1128e-01,\n            7.8284e-02, 2.2886e-01],\n           [1.5183e-01, 4.8536e-01, 2.6404e-01,  ..., 1.7886e-01,\n            1.5306e-01, 6.6452e-01]],\n \n          [[2.9246e-01, 5.5215e-01, 7.1175e-01,  ..., 9.4642e-01,\n            5.2882e-01, 9.0822e-01],\n           [2.6622e-01, 2.0878e-01, 8.0402e-01,  ..., 3.4617e-01,\n            1.0836e-01, 2.4459e-01],\n           [2.1788e-01, 5.1400e-01, 6.2984e-01,  ..., 2.0284e-01,\n            1.8288e-01, 5.6385e-01],\n           ...,\n           [1.3751e-01, 8.7859e-01, 9.5151e-01,  ..., 7.9803e-01,\n            1.9875e-01, 2.7061e-01],\n           [9.1770e-01, 4.3801e-02, 7.7652e-01,  ..., 2.9942e-01,\n            8.3176e-01, 2.5636e-02],\n           [6.5086e-01, 4.3684e-01, 7.8566e-01,  ..., 7.4704e-01,\n            4.5520e-01, 1.1115e-01]]]]),\n torch.Size([1, 3, 256, 256]),\n 4)"
     },
     "execution_count": 24,
     "metadata": {},
     "output_type": "execute_result"
    }
   ],
   "source": [
    "random_tensor_image = torch.rand(size=(1,3,256,256))\n",
    "random_tensor_image, random_tensor_image.shape, random_tensor_image.ndim"
   ],
   "metadata": {
    "collapsed": false,
    "ExecuteTime": {
     "end_time": "2023-10-04T15:34:32.735600Z",
     "start_time": "2023-10-04T15:34:32.684476Z"
    }
   },
   "id": "b8b436c4ef530072"
  },
  {
   "cell_type": "markdown",
   "source": [
    "### Zeroes and ones tensor"
   ],
   "metadata": {
    "collapsed": false
   },
   "id": "132107472d310234"
  },
  {
   "cell_type": "code",
   "execution_count": 25,
   "outputs": [
    {
     "data": {
      "text/plain": "tensor([[0., 0., 0., 0.],\n        [0., 0., 0., 0.],\n        [0., 0., 0., 0.]])"
     },
     "execution_count": 25,
     "metadata": {},
     "output_type": "execute_result"
    }
   ],
   "source": [
    "zeros_tensor = torch.zeros(3,4)\n",
    "zeros_tensor"
   ],
   "metadata": {
    "collapsed": false,
    "ExecuteTime": {
     "end_time": "2023-10-04T15:34:32.736045Z",
     "start_time": "2023-10-04T15:34:32.692734Z"
    }
   },
   "id": "ece1087f93d1c705"
  },
  {
   "cell_type": "code",
   "execution_count": 26,
   "outputs": [
    {
     "data": {
      "text/plain": "tensor([[1., 1., 1., 1.],\n        [1., 1., 1., 1.],\n        [1., 1., 1., 1.]])"
     },
     "execution_count": 26,
     "metadata": {},
     "output_type": "execute_result"
    }
   ],
   "source": [
    "ones_tensor = torch.ones(3,4)\n",
    "ones_tensor"
   ],
   "metadata": {
    "collapsed": false,
    "ExecuteTime": {
     "end_time": "2023-10-04T15:34:32.736244Z",
     "start_time": "2023-10-04T15:34:32.696447Z"
    }
   },
   "id": "9828b6f571bcfb77"
  },
  {
   "cell_type": "markdown",
   "source": [
    "### Creating a tensor in a range   "
   ],
   "metadata": {
    "collapsed": false
   },
   "id": "67c9db0778626206"
  },
  {
   "cell_type": "code",
   "execution_count": 27,
   "outputs": [
    {
     "data": {
      "text/plain": "tensor([ 1,  2,  3,  4,  5,  6,  7,  8,  9, 10, 11, 12, 13, 14, 15, 16, 17, 18,\n        19, 20])"
     },
     "execution_count": 27,
     "metadata": {},
     "output_type": "execute_result"
    }
   ],
   "source": [
    "ones_to_20 = torch.arange(1,21)\n",
    "ones_to_20"
   ],
   "metadata": {
    "collapsed": false,
    "ExecuteTime": {
     "end_time": "2023-10-04T15:34:32.736479Z",
     "start_time": "2023-10-04T15:34:32.699565Z"
    }
   },
   "id": "7a2dbf3edff7775d"
  },
  {
   "cell_type": "code",
   "execution_count": 28,
   "outputs": [
    {
     "data": {
      "text/plain": "tensor([0, 0, 0, 0, 0, 0, 0, 0, 0, 0, 0, 0, 0, 0, 0, 0, 0, 0, 0, 0])"
     },
     "execution_count": 28,
     "metadata": {},
     "output_type": "execute_result"
    }
   ],
   "source": [
    "twenty_zeroes = torch.zeros_like(ones_to_20)\n",
    "twenty_zeroes"
   ],
   "metadata": {
    "collapsed": false,
    "ExecuteTime": {
     "end_time": "2023-10-04T15:34:32.737921Z",
     "start_time": "2023-10-04T15:34:32.702564Z"
    }
   },
   "id": "ad979ae81d34ef62"
  },
  {
   "cell_type": "code",
   "execution_count": 31,
   "outputs": [],
   "source": [
    "float_32_tensor = torch.tensor([1.0,2.0,4.0], \n",
    "                             dtype=None,\n",
    "                             device=None,\n",
    "                             requires_grad=False)"
   ],
   "metadata": {
    "collapsed": false,
    "ExecuteTime": {
     "end_time": "2023-10-04T15:34:46.064984Z",
     "start_time": "2023-10-04T15:34:46.059725Z"
    }
   },
   "id": "256d221d9fa8581d"
  },
  {
   "cell_type": "code",
   "execution_count": 32,
   "outputs": [
    {
     "data": {
      "text/plain": "torch.float32"
     },
     "execution_count": 32,
     "metadata": {},
     "output_type": "execute_result"
    }
   ],
   "source": [
    "float_32_tensor.dtype"
   ],
   "metadata": {
    "collapsed": false,
    "ExecuteTime": {
     "end_time": "2023-10-04T15:34:46.717737Z",
     "start_time": "2023-10-04T15:34:46.703400Z"
    }
   },
   "id": "a1664e668e2af02d"
  },
  {
   "cell_type": "code",
   "execution_count": 33,
   "outputs": [
    {
     "data": {
      "text/plain": "tensor([1., 2., 4.], dtype=torch.float16)"
     },
     "execution_count": 33,
     "metadata": {},
     "output_type": "execute_result"
    }
   ],
   "source": [
    "float_16_tensor = float_32_tensor.type(torch.float16)\n",
    "float_16_tensor"
   ],
   "metadata": {
    "collapsed": false,
    "ExecuteTime": {
     "end_time": "2023-10-04T15:38:00.725513Z",
     "start_time": "2023-10-04T15:38:00.704767Z"
    }
   },
   "id": "8225f4e8d92cc89d"
  },
  {
   "cell_type": "code",
   "execution_count": 34,
   "outputs": [
    {
     "data": {
      "text/plain": "tensor([ 1.,  4., 16.])"
     },
     "execution_count": 34,
     "metadata": {},
     "output_type": "execute_result"
    }
   ],
   "source": [
    "float_16_tensor * float_32_tensor"
   ],
   "metadata": {
    "collapsed": false,
    "ExecuteTime": {
     "end_time": "2023-10-04T15:38:18.078789Z",
     "start_time": "2023-10-04T15:38:18.057404Z"
    }
   },
   "id": "c01cf3422ded4184"
  },
  {
   "cell_type": "code",
   "execution_count": 36,
   "outputs": [
    {
     "data": {
      "text/plain": "tensor([3, 6, 9], dtype=torch.int32)"
     },
     "execution_count": 36,
     "metadata": {},
     "output_type": "execute_result"
    }
   ],
   "source": [
    "int_32_tensor = torch.tensor([3,6,9], dtype=torch.int32)\n",
    "int_32_tensor"
   ],
   "metadata": {
    "collapsed": false,
    "ExecuteTime": {
     "end_time": "2023-10-04T15:39:39.652663Z",
     "start_time": "2023-10-04T15:39:39.644340Z"
    }
   },
   "id": "6f4fc55b1a86f38c"
  },
  {
   "cell_type": "code",
   "execution_count": 37,
   "outputs": [
    {
     "data": {
      "text/plain": "tensor([ 3., 12., 36.])"
     },
     "execution_count": 37,
     "metadata": {},
     "output_type": "execute_result"
    }
   ],
   "source": [
    "int_32_tensor*float_32_tensor"
   ],
   "metadata": {
    "collapsed": false,
    "ExecuteTime": {
     "end_time": "2023-10-04T15:39:47.261517Z",
     "start_time": "2023-10-04T15:39:47.247546Z"
    }
   },
   "id": "cf107eccf13405fe"
  },
  {
   "cell_type": "code",
   "execution_count": 40,
   "outputs": [
    {
     "data": {
      "text/plain": "device(type='cpu')"
     },
     "execution_count": 40,
     "metadata": {},
     "output_type": "execute_result"
    }
   ],
   "source": [
    "int_32_tensor.device"
   ],
   "metadata": {
    "collapsed": false,
    "ExecuteTime": {
     "end_time": "2023-10-04T15:41:12.596931Z",
     "start_time": "2023-10-04T15:41:12.588582Z"
    }
   },
   "id": "6ad488ddbb93e34b"
  },
  {
   "cell_type": "code",
   "execution_count": 41,
   "outputs": [
    {
     "data": {
      "text/plain": "tensor([[0.1959, 0.2715, 0.4388, 0.7881, 0.3731],\n        [0.1950, 0.9830, 0.3844, 0.0269, 0.7879],\n        [0.6271, 0.3018, 0.8666, 0.9224, 0.7626],\n        [0.9874, 0.8346, 0.2505, 0.9391, 0.8168]])"
     },
     "execution_count": 41,
     "metadata": {},
     "output_type": "execute_result"
    }
   ],
   "source": [
    "some_tensor = torch.rand(4,5)\n",
    "some_tensor"
   ],
   "metadata": {
    "collapsed": false,
    "ExecuteTime": {
     "end_time": "2023-10-04T15:41:42.192620Z",
     "start_time": "2023-10-04T15:41:42.171218Z"
    }
   },
   "id": "741a08d105db7d78"
  },
  {
   "cell_type": "code",
   "execution_count": 42,
   "outputs": [
    {
     "name": "stdout",
     "output_type": "stream",
     "text": [
      "Data type:  torch.float32\n",
      "Device tensor is stored on:  cpu\n",
      "Shape of tensor:  torch.Size([4, 5])\n"
     ]
    }
   ],
   "source": [
    "# info about the tensor\n",
    "print(\"Data type: \", some_tensor.dtype)\n",
    "print(\"Device tensor is stored on: \", some_tensor.device)\n",
    "print(\"Shape of tensor: \", some_tensor.shape)"
   ],
   "metadata": {
    "collapsed": false,
    "ExecuteTime": {
     "end_time": "2023-10-04T15:41:58.667202Z",
     "start_time": "2023-10-04T15:41:58.648700Z"
    }
   },
   "id": "d3477994536766c1"
  },
  {
   "cell_type": "code",
   "execution_count": 43,
   "outputs": [],
   "source": [
    "# move tensor to GPU if available\n",
    "if torch.cuda.is_available():\n",
    "    some_tensor = some_tensor.to('cuda')\n",
    "    print(\"Device tensor is stored on: \", some_tensor.device)"
   ],
   "metadata": {
    "collapsed": false,
    "ExecuteTime": {
     "end_time": "2023-10-04T15:42:05.091346Z",
     "start_time": "2023-10-04T15:42:05.071661Z"
    }
   },
   "id": "677fca486c7bf713"
  },
  {
   "cell_type": "code",
   "execution_count": 44,
   "outputs": [
    {
     "data": {
      "text/plain": "device(type='cpu')"
     },
     "execution_count": 44,
     "metadata": {},
     "output_type": "execute_result"
    }
   ],
   "source": [
    "some_tensor.device"
   ],
   "metadata": {
    "collapsed": false,
    "ExecuteTime": {
     "end_time": "2023-10-04T15:42:18.836730Z",
     "start_time": "2023-10-04T15:42:18.810429Z"
    }
   },
   "id": "fa59c166ccf4d5ef"
  },
  {
   "cell_type": "markdown",
   "source": [
    "### Manipulating tensors"
   ],
   "metadata": {
    "collapsed": false
   },
   "id": "651054b61bffbbf8"
  }
 ],
 "metadata": {
  "kernelspec": {
   "display_name": "Python 3",
   "language": "python",
   "name": "python3"
  },
  "language_info": {
   "codemirror_mode": {
    "name": "ipython",
    "version": 2
   },
   "file_extension": ".py",
   "mimetype": "text/x-python",
   "name": "python",
   "nbconvert_exporter": "python",
   "pygments_lexer": "ipython2",
   "version": "2.7.6"
  }
 },
 "nbformat": 4,
 "nbformat_minor": 5
}
